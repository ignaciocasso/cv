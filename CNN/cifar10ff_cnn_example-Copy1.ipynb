{
 "cells": [
  {
   "cell_type": "code",
   "execution_count": 1,
   "metadata": {
    "colab": {
     "base_uri": "https://localhost:8080/",
     "height": 68
    },
    "colab_type": "code",
    "executionInfo": {
     "elapsed": 36772,
     "status": "ok",
     "timestamp": 1540200569649,
     "user": {
      "displayName": "Roberto Valle",
      "photoUrl": "",
      "userId": "16469854423234079524"
     },
     "user_tz": -120
    },
    "id": "QnOyhW_UpgtO",
    "outputId": "d7729903-a0ce-42ff-954c-316628e1c4e5"
   },
   "outputs": [
    {
     "name": "stderr",
     "output_type": "stream",
     "text": [
      "Using TensorFlow backend.\n"
     ]
    }
   ],
   "source": [
    "# Load CIFAR-10 data set\n",
    "from keras.datasets import cifar10\n",
    "(X_train, y_train), (X_test, y_test) = cifar10.load_data()"
   ]
  },
  {
   "cell_type": "code",
   "execution_count": 2,
   "metadata": {
    "colab": {
     "base_uri": "https://localhost:8080/",
     "height": 209
    },
    "colab_type": "code",
    "executionInfo": {
     "elapsed": 1460,
     "status": "ok",
     "timestamp": 1540200574966,
     "user": {
      "displayName": "Roberto Valle",
      "photoUrl": "",
      "userId": "16469854423234079524"
     },
     "user_tz": -120
    },
    "id": "XSUzmpMMx_I8",
    "outputId": "e9eed5c6-7d0a-4d84-b7a4-8d9cfb3e7ea6"
   },
   "outputs": [
    {
     "data": {
      "text/plain": [
       "<Figure size 800x300 with 10 Axes>"
      ]
     },
     "metadata": {},
     "output_type": "display_data"
    }
   ],
   "source": [
    "# Show examples from each class\n",
    "import numpy as np\n",
    "import matplotlib.pyplot as plt\n",
    "\n",
    "num_classes = len(np.unique(y_train))\n",
    "class_names = ['airplane','automobile','bird','cat','deer','dog','frog','horse','ship','truck']\n",
    "fig = plt.figure(figsize=(8,3))\n",
    "for i in range(num_classes):\n",
    "    ax = fig.add_subplot(2, 5, 1 + i, xticks=[], yticks=[])\n",
    "    ax.set_title(class_names[i])\n",
    "    idx = np.where(y_train[:]==i)[0]\n",
    "    features_idx = X_train[idx,::]\n",
    "    rnd_img = np.random.randint(features_idx.shape[0])\n",
    "    im = np.transpose(features_idx[rnd_img,::], (0, 1, 2))\n",
    "    plt.imshow(im)\n",
    "plt.show()"
   ]
  },
  {
   "cell_type": "code",
   "execution_count": 3,
   "metadata": {
    "colab": {},
    "colab_type": "code",
    "id": "ReKgPUpfyPp1"
   },
   "outputs": [],
   "source": [
    "# Data pre-processing\n",
    "X_train = X_train.astype('float32')\n",
    "X_test = X_test.astype('float32')\n",
    "X_train /= 255.0\n",
    "X_test /= 255.0\n",
    "\n",
    "from keras.utils import np_utils\n",
    "Y_train = np_utils.to_categorical(y_train, num_classes)\n",
    "Y_test = np_utils.to_categorical(y_test, num_classes)"
   ]
  },
  {
   "cell_type": "code",
   "execution_count": 4,
   "metadata": {
    "colab": {},
    "colab_type": "code",
    "id": "3TSYuBVN51zj"
   },
   "outputs": [],
   "source": [
    "def plot_model_history(model_history):\n",
    "    fig, axs = plt.subplots(1,2,figsize=(15,5))\n",
    "    # Summarize history for accuracy\n",
    "    axs[0].plot(range(1,len(model_history.history['acc'])+1),model_history.history['acc'])\n",
    "    axs[0].plot(range(1,len(model_history.history['val_acc'])+1),model_history.history['val_acc'])\n",
    "    axs[0].set_title('Model Accuracy')\n",
    "    axs[0].set_ylabel('Accuracy')\n",
    "    axs[0].set_xlabel('Epoch')\n",
    "    axs[0].set_xticks(np.arange(1,len(model_history.history['acc'])+1),len(model_history.history['acc'])/10)\n",
    "    axs[0].legend(['train', 'val'], loc='best')\n",
    "    # summarize history for loss\n",
    "    axs[1].plot(range(1,len(model_history.history['loss'])+1),model_history.history['loss'])\n",
    "    axs[1].plot(range(1,len(model_history.history['val_loss'])+1),model_history.history['val_loss'])\n",
    "    axs[1].set_title('Model Loss')\n",
    "    axs[1].set_ylabel('Loss')\n",
    "    axs[1].set_xlabel('Epoch')\n",
    "    axs[1].set_xticks(np.arange(1,len(model_history.history['loss'])+1),len(model_history.history['loss'])/10)\n",
    "    axs[1].legend(['train', 'val'], loc='best')\n",
    "    plt.show()"
   ]
  },
  {
   "cell_type": "code",
   "execution_count": 8,
   "metadata": {
    "colab": {
     "base_uri": "https://localhost:8080/",
     "height": 544
    },
    "colab_type": "code",
    "executionInfo": {
     "elapsed": 1351,
     "status": "ok",
     "timestamp": 1540200599038,
     "user": {
      "displayName": "Roberto Valle",
      "photoUrl": "",
      "userId": "16469854423234079524"
     },
     "user_tz": -120
    },
    "id": "q-96Zadwqk_t",
    "outputId": "faa04b08-8b24-483d-c81c-2464337a0d7d"
   },
   "outputs": [
    {
     "name": "stdout",
     "output_type": "stream",
     "text": [
      "_________________________________________________________________\n",
      "Layer (type)                 Output Shape              Param #   \n",
      "=================================================================\n",
      "flatten_1 (Flatten)          (None, 3072)              0         \n",
      "_________________________________________________________________\n",
      "dense_1 (Dense)              (None, 10)                30730     \n",
      "_________________________________________________________________\n",
      "activation_1 (Activation)    (None, 10)                0         \n",
      "=================================================================\n",
      "Total params: 30,730\n",
      "Trainable params: 30,730\n",
      "Non-trainable params: 0\n",
      "_________________________________________________________________\n"
     ]
    }
   ],
   "source": [
    "# Multilayer Perceptrons (MLPs)\n",
    "from keras.models import Sequential\n",
    "from keras.layers import Dense, Dropout, Activation, Flatten\n",
    "\n",
    "model = Sequential()\n",
    "model.add(Flatten(input_shape=(32, 32, 3)))\n",
    "model.add(Dense(10))\n",
    "model.add(Activation('softmax'))\n",
    "\n",
    "model.compile(optimizer='adam', loss='categorical_crossentropy', metrics=['accuracy'])\n",
    "model.summary()"
   ]
  },
  {
   "cell_type": "code",
   "execution_count": 9,
   "metadata": {
    "colab": {
     "base_uri": "https://localhost:8080/",
     "height": 3060
    },
    "colab_type": "code",
    "id": "NJ7U0u3IpuPj",
    "outputId": "57b74713-afd3-49fb-b0ec-f20d6ba9ab5a",
    "scrolled": true
   },
   "outputs": [
    {
     "name": "stdout",
     "output_type": "stream",
     "text": [
      "Train on 50000 samples, validate on 10000 samples\n",
      "Epoch 1/20\n",
      "50000/50000 [==============================] - 2s 32us/step - loss: 1.9331 - acc: 0.3144 - val_loss: 1.8541 - val_acc: 0.3552\n",
      "Epoch 2/20\n",
      "50000/50000 [==============================] - 1s 27us/step - loss: 1.8268 - acc: 0.3626 - val_loss: 1.8006 - val_acc: 0.3615\n",
      "Epoch 3/20\n",
      "50000/50000 [==============================] - 1s 27us/step - loss: 1.7916 - acc: 0.3777 - val_loss: 1.8360 - val_acc: 0.3615\n",
      "Epoch 4/20\n",
      "50000/50000 [==============================] - 1s 27us/step - loss: 1.7820 - acc: 0.3825 - val_loss: 1.7564 - val_acc: 0.3941\n",
      "Epoch 5/20\n",
      "50000/50000 [==============================] - 1s 27us/step - loss: 1.7681 - acc: 0.3865 - val_loss: 1.8519 - val_acc: 0.3513\n",
      "Epoch 6/20\n",
      "50000/50000 [==============================] - 1s 27us/step - loss: 1.7595 - acc: 0.3907 - val_loss: 1.7848 - val_acc: 0.3760\n",
      "Epoch 7/20\n",
      "50000/50000 [==============================] - 1s 28us/step - loss: 1.7566 - acc: 0.3948 - val_loss: 1.7775 - val_acc: 0.3905\n",
      "Epoch 8/20\n",
      "50000/50000 [==============================] - 1s 26us/step - loss: 1.7537 - acc: 0.3941 - val_loss: 1.7411 - val_acc: 0.3967\n",
      "Epoch 9/20\n",
      "50000/50000 [==============================] - 1s 27us/step - loss: 1.7353 - acc: 0.4003 - val_loss: 1.7944 - val_acc: 0.3763\n",
      "Epoch 10/20\n",
      "50000/50000 [==============================] - 1s 28us/step - loss: 1.7372 - acc: 0.3995 - val_loss: 1.7530 - val_acc: 0.3899\n",
      "Epoch 11/20\n",
      "50000/50000 [==============================] - 1s 28us/step - loss: 1.7314 - acc: 0.4045 - val_loss: 1.7535 - val_acc: 0.3902\n",
      "Epoch 12/20\n",
      "50000/50000 [==============================] - 1s 27us/step - loss: 1.7309 - acc: 0.4021 - val_loss: 1.7598 - val_acc: 0.3904\n",
      "Epoch 13/20\n",
      "50000/50000 [==============================] - 1s 29us/step - loss: 1.7334 - acc: 0.4027 - val_loss: 1.7721 - val_acc: 0.3858\n",
      "Epoch 14/20\n",
      "50000/50000 [==============================] - 1s 28us/step - loss: 1.7195 - acc: 0.4098 - val_loss: 1.7301 - val_acc: 0.4036\n",
      "Epoch 15/20\n",
      "50000/50000 [==============================] - 1s 29us/step - loss: 1.7248 - acc: 0.4061 - val_loss: 1.7514 - val_acc: 0.3877\n",
      "Epoch 16/20\n",
      "50000/50000 [==============================] - 1s 30us/step - loss: 1.7184 - acc: 0.4099 - val_loss: 1.7292 - val_acc: 0.3983\n",
      "Epoch 17/20\n",
      "50000/50000 [==============================] - 1s 28us/step - loss: 1.7082 - acc: 0.4132 - val_loss: 1.7636 - val_acc: 0.3915\n",
      "Epoch 18/20\n",
      "50000/50000 [==============================] - 1s 27us/step - loss: 1.7141 - acc: 0.4106 - val_loss: 1.7774 - val_acc: 0.3824\n",
      "Epoch 19/20\n",
      "50000/50000 [==============================] - 1s 27us/step - loss: 1.7131 - acc: 0.4094 - val_loss: 1.7751 - val_acc: 0.3839\n",
      "Epoch 20/20\n",
      "50000/50000 [==============================] - 1s 29us/step - loss: 1.7065 - acc: 0.4134 - val_loss: 1.8187 - val_acc: 0.3737\n",
      "Test loss: 1.8187129802703856\n",
      "Test accuracy: 0.3737\n"
     ]
    },
    {
     "data": {
      "image/png": "[encoded data removed]",
      "text/plain": [
       "<Figure size 1080x360 with 2 Axes>"
      ]
     },
     "metadata": {
      "needs_background": "light"
     },
     "output_type": "display_data"
    },
    {
     "name": "stdout",
     "output_type": "stream",
     "text": [
      "Training MLP took 28.11942982673645 seconds\n"
     ]
    }
   ],
   "source": [
    "# Training\n",
    "import time\n",
    "start = time.time()\n",
    "history = model.fit(X_train, Y_train, batch_size=128, epochs=20, verbose=1, validation_data=(X_test, Y_test))\n",
    "end = time.time()\n",
    "\n",
    "loss, acc = model.evaluate(X_test, Y_test, verbose=0)\n",
    "print('Test loss:', loss)\n",
    "print('Test accuracy:', acc)\n",
    "\n",
    "plot_model_history(history)\n",
    "print(\"Training MLP took \" + str(end - start) + \" seconds\")"
   ]
  },
  {
   "cell_type": "markdown",
   "metadata": {},
   "source": [
    "Definición de una red convolucional multicapa"
   ]
  },
  {
   "cell_type": "code",
   "execution_count": 6,
   "metadata": {},
   "outputs": [
    {
     "data": {
      "text/plain": [
       "10.666666666666666"
      ]
     },
     "execution_count": 6,
     "metadata": {},
     "output_type": "execute_result"
    }
   ],
   "source": [
    "32/3"
   ]
  },
  {
   "cell_type": "code",
   "execution_count": 15,
   "metadata": {
    "colab": {},
    "colab_type": "code",
    "id": "R4547GWaFX-c"
   },
   "outputs": [
    {
     "name": "stdout",
     "output_type": "stream",
     "text": [
      "_________________________________________________________________\n",
      "Layer (type)                 Output Shape              Param #   \n",
      "=================================================================\n",
      "conv2d_14 (Conv2D)           (None, 32, 32, 24)        672       \n",
      "_________________________________________________________________\n",
      "activation_13 (Activation)   (None, 32, 32, 24)        0         \n",
      "_________________________________________________________________\n",
      "max_pooling2d_7 (MaxPooling2 (None, 16, 16, 24)        0         \n",
      "_________________________________________________________________\n",
      "conv2d_15 (Conv2D)           (None, 16, 16, 48)        10416     \n",
      "_________________________________________________________________\n",
      "activation_14 (Activation)   (None, 16, 16, 48)        0         \n",
      "_________________________________________________________________\n",
      "max_pooling2d_8 (MaxPooling2 (None, 4, 4, 48)          0         \n",
      "_________________________________________________________________\n",
      "conv2d_16 (Conv2D)           (None, 4, 4, 32)          1568      \n",
      "_________________________________________________________________\n",
      "activation_15 (Activation)   (None, 4, 4, 32)          0         \n",
      "_________________________________________________________________\n",
      "conv2d_17 (Conv2D)           (None, 1, 1, 10)          5130      \n",
      "_________________________________________________________________\n",
      "flatten_4 (Flatten)          (None, 10)                0         \n",
      "_________________________________________________________________\n",
      "activation_16 (Activation)   (None, 10)                0         \n",
      "=================================================================\n",
      "Total params: 17,786\n",
      "Trainable params: 17,786\n",
      "Non-trainable params: 0\n",
      "_________________________________________________________________\n"
     ]
    }
   ],
   "source": [
    "# Convolutional Neural Network (CNN)\n",
    "from keras.models import Sequential\n",
    "from keras.layers import Dense, Activation, Flatten\n",
    "from keras.layers.convolutional import Conv2D, MaxPooling2D\n",
    "import keras.backend as K\n",
    "\n",
    "\n",
    "del model\n",
    "model = Sequential()\n",
    "model.add(Conv2D(filters=int(48/2), kernel_size=(3, 3), padding='same', input_shape=(32, 32, 3)))\n",
    "model.add(Activation('relu'))\n",
    "\n",
    "model.add(MaxPooling2D(pool_size=(2, 2)))\n",
    "\n",
    "model.add(Conv2D(filters=int(96/2), kernel_size=(3, 3), padding='same'))\n",
    "model.add(Activation('relu'))\n",
    "\n",
    "\n",
    "model.add(MaxPooling2D(pool_size=(4, 4)))\n",
    "\n",
    "model.add(Conv2D(filters=int(32/2), kernel_size=(1, 1), padding='same'))\n",
    "model.add(Activation('relu'))\n",
    "\n",
    "model.add(Conv2D(filters=10, kernel_size=(4, 4), padding='valid'))\n",
    "model.add(Flatten())\n",
    "model.add(Activation('softmax'))\n",
    "\n",
    "model.compile(optimizer='adam', loss='categorical_crossentropy', metrics=['accuracy'])\n",
    "model.summary()"
   ]
  },
  {
   "cell_type": "code",
   "execution_count": 14,
   "metadata": {
    "scrolled": true
   },
   "outputs": [
    {
     "name": "stdout",
     "output_type": "stream",
     "text": [
      "Train on 50000 samples, validate on 10000 samples\n",
      "Epoch 1/50\n",
      "50000/50000 [==============================] - 49s 987us/step - loss: 1.8146 - acc: 0.3461 - val_loss: 1.5417 - val_acc: 0.4447\n",
      "Epoch 2/50\n",
      "50000/50000 [==============================] - 34s 679us/step - loss: 1.4471 - acc: 0.4824 - val_loss: 1.3519 - val_acc: 0.5234\n",
      "Epoch 3/50\n",
      "50000/50000 [==============================] - 39s 771us/step - loss: 1.3217 - acc: 0.5331 - val_loss: 1.2694 - val_acc: 0.5511\n",
      "Epoch 4/50\n",
      "50000/50000 [==============================] - 38s 762us/step - loss: 1.2450 - acc: 0.5605 - val_loss: 1.2450 - val_acc: 0.5608\n",
      "Epoch 5/50\n",
      "50000/50000 [==============================] - 36s 726us/step - loss: 1.1911 - acc: 0.5811 - val_loss: 1.1696 - val_acc: 0.5926\n",
      "Epoch 6/50\n",
      "50000/50000 [==============================] - 43s 851us/step - loss: 1.1479 - acc: 0.5971 - val_loss: 1.1235 - val_acc: 0.6067\n",
      "Epoch 7/50\n",
      "50000/50000 [==============================] - 36s 724us/step - loss: 1.1108 - acc: 0.6088 - val_loss: 1.0996 - val_acc: 0.6220\n",
      "Epoch 8/50\n",
      "50000/50000 [==============================] - 34s 674us/step - loss: 1.0774 - acc: 0.6238 - val_loss: 1.0661 - val_acc: 0.6314\n",
      "Epoch 9/50\n",
      "50000/50000 [==============================] - 37s 748us/step - loss: 1.0498 - acc: 0.6318 - val_loss: 1.0591 - val_acc: 0.6309\n",
      "Epoch 10/50\n",
      "50000/50000 [==============================] - 37s 738us/step - loss: 1.0299 - acc: 0.6394 - val_loss: 1.0605 - val_acc: 0.6236\n",
      "Epoch 11/50\n",
      "50000/50000 [==============================] - 34s 679us/step - loss: 1.0072 - acc: 0.6487 - val_loss: 1.0502 - val_acc: 0.6304\n",
      "Epoch 12/50\n",
      "50000/50000 [==============================] - 35s 692us/step - loss: 0.9884 - acc: 0.6544 - val_loss: 1.0285 - val_acc: 0.6451\n",
      "Epoch 13/50\n",
      "50000/50000 [==============================] - 34s 686us/step - loss: 0.9724 - acc: 0.6595 - val_loss: 0.9929 - val_acc: 0.6501\n",
      "Epoch 14/50\n",
      "50000/50000 [==============================] - 34s 680us/step - loss: 0.9571 - acc: 0.6647 - val_loss: 1.0008 - val_acc: 0.6533\n",
      "Epoch 15/50\n",
      "50000/50000 [==============================] - 34s 678us/step - loss: 0.9354 - acc: 0.6730 - val_loss: 0.9710 - val_acc: 0.6574\n",
      "Epoch 16/50\n",
      "50000/50000 [==============================] - 34s 687us/step - loss: 0.9276 - acc: 0.6751 - val_loss: 0.9693 - val_acc: 0.6593\n",
      "Epoch 17/50\n",
      "50000/50000 [==============================] - 34s 680us/step - loss: 0.9156 - acc: 0.6809 - val_loss: 0.9886 - val_acc: 0.6519\n",
      "Epoch 18/50\n",
      "50000/50000 [==============================] - 36s 711us/step - loss: 0.9053 - acc: 0.6811 - val_loss: 0.9840 - val_acc: 0.6549\n",
      "Epoch 19/50\n",
      "50000/50000 [==============================] - 34s 688us/step - loss: 0.8913 - acc: 0.6887 - val_loss: 0.9410 - val_acc: 0.6696\n",
      "Epoch 20/50\n",
      "50000/50000 [==============================] - 35s 694us/step - loss: 0.8839 - acc: 0.6900 - val_loss: 0.9699 - val_acc: 0.6643\n",
      "Epoch 21/50\n",
      "50000/50000 [==============================] - 34s 678us/step - loss: 0.8717 - acc: 0.6962 - val_loss: 0.9219 - val_acc: 0.6752\n",
      "Epoch 22/50\n",
      "50000/50000 [==============================] - 34s 689us/step - loss: 0.8673 - acc: 0.6974 - val_loss: 0.9399 - val_acc: 0.6718\n",
      "Epoch 23/50\n",
      "50000/50000 [==============================] - 34s 689us/step - loss: 0.8559 - acc: 0.7008 - val_loss: 0.9377 - val_acc: 0.6729\n",
      "Epoch 24/50\n",
      "50000/50000 [==============================] - 34s 681us/step - loss: 0.8494 - acc: 0.7026 - val_loss: 0.9377 - val_acc: 0.6711\n",
      "Epoch 25/50\n",
      "50000/50000 [==============================] - 35s 699us/step - loss: 0.8404 - acc: 0.7064 - val_loss: 0.9050 - val_acc: 0.6811\n",
      "Epoch 26/50\n",
      "50000/50000 [==============================] - 34s 679us/step - loss: 0.8327 - acc: 0.7102 - val_loss: 0.9019 - val_acc: 0.6891\n",
      "Epoch 27/50\n",
      "50000/50000 [==============================] - 35s 698us/step - loss: 0.8255 - acc: 0.7122 - val_loss: 0.9229 - val_acc: 0.6770\n",
      "Epoch 28/50\n",
      "50000/50000 [==============================] - 34s 681us/step - loss: 0.8229 - acc: 0.7142 - val_loss: 0.9995 - val_acc: 0.6554\n",
      "Epoch 29/50\n",
      "50000/50000 [==============================] - 32s 635us/step - loss: 0.8144 - acc: 0.7169 - val_loss: 0.9377 - val_acc: 0.6804\n",
      "Epoch 30/50\n",
      "50000/50000 [==============================] - 77s 2ms/step - loss: 0.8060 - acc: 0.7176 - val_loss: 0.9243 - val_acc: 0.6788\n",
      "Epoch 31/50\n",
      "50000/50000 [==============================] - 38s 764us/step - loss: 0.8057 - acc: 0.7173 - val_loss: 0.8977 - val_acc: 0.6862\n",
      "Epoch 32/50\n",
      "50000/50000 [==============================] - 4374s 87ms/step - loss: 0.7972 - acc: 0.7216 - val_loss: 0.9086 - val_acc: 0.6825\n",
      "Epoch 33/50\n",
      "50000/50000 [==============================] - 78s 2ms/step - loss: 0.7903 - acc: 0.7254 - val_loss: 0.8908 - val_acc: 0.6934\n",
      "Epoch 34/50\n",
      "50000/50000 [==============================] - 65s 1ms/step - loss: 0.7858 - acc: 0.7255 - val_loss: 0.8972 - val_acc: 0.6897\n",
      "Epoch 35/50\n",
      "50000/50000 [==============================] - 63s 1ms/step - loss: 0.7785 - acc: 0.7269 - val_loss: 0.8838 - val_acc: 0.6942\n",
      "Epoch 36/50\n",
      "50000/50000 [==============================] - 68s 1ms/step - loss: 0.7797 - acc: 0.7284 - val_loss: 0.8754 - val_acc: 0.6956\n",
      "Epoch 37/50\n",
      "50000/50000 [==============================] - 60s 1ms/step - loss: 0.7686 - acc: 0.7326 - val_loss: 0.8858 - val_acc: 0.6925\n",
      "Epoch 38/50\n",
      "50000/50000 [==============================] - 59s 1ms/step - loss: 0.7696 - acc: 0.7317 - val_loss: 0.9358 - val_acc: 0.6718\n",
      "Epoch 39/50\n",
      "50000/50000 [==============================] - 58s 1ms/step - loss: 0.7649 - acc: 0.7332 - val_loss: 0.8807 - val_acc: 0.6967\n",
      "Epoch 40/50\n",
      "50000/50000 [==============================] - 58s 1ms/step - loss: 0.7565 - acc: 0.7358 - val_loss: 0.8739 - val_acc: 0.6988\n",
      "Epoch 41/50\n",
      "50000/50000 [==============================] - 57s 1ms/step - loss: 0.7556 - acc: 0.7344 - val_loss: 0.8792 - val_acc: 0.6932\n",
      "Epoch 42/50\n",
      "50000/50000 [==============================] - 39s 774us/step - loss: 0.7475 - acc: 0.7383 - val_loss: 0.8697 - val_acc: 0.6988\n",
      "Epoch 43/50\n",
      "50000/50000 [==============================] - 33s 667us/step - loss: 0.7438 - acc: 0.7411 - val_loss: 0.8676 - val_acc: 0.6994\n",
      "Epoch 44/50\n",
      "50000/50000 [==============================] - 33s 658us/step - loss: 0.7395 - acc: 0.7404 - val_loss: 0.8663 - val_acc: 0.6998\n",
      "Epoch 45/50\n",
      "50000/50000 [==============================] - 33s 650us/step - loss: 0.7364 - acc: 0.7424 - val_loss: 0.8629 - val_acc: 0.7015\n",
      "Epoch 46/50\n",
      "50000/50000 [==============================] - 32s 647us/step - loss: 0.7332 - acc: 0.7431 - val_loss: 0.8547 - val_acc: 0.7066\n",
      "Epoch 47/50\n",
      "50000/50000 [==============================] - 32s 645us/step - loss: 0.7320 - acc: 0.7429 - val_loss: 0.8995 - val_acc: 0.6962\n",
      "Epoch 48/50\n",
      "50000/50000 [==============================] - 32s 640us/step - loss: 0.7278 - acc: 0.7454 - val_loss: 0.8839 - val_acc: 0.6964\n",
      "Epoch 49/50\n",
      "50000/50000 [==============================] - 32s 639us/step - loss: 0.7254 - acc: 0.7467 - val_loss: 0.8777 - val_acc: 0.6983\n",
      "Epoch 50/50\n",
      "50000/50000 [==============================] - 32s 638us/step - loss: 0.7189 - acc: 0.7507 - val_loss: 0.8629 - val_acc: 0.7015\n",
      "Test loss: 0.8628816421508789\n",
      "Test accuracy: 0.7015\n"
     ]
    },
    {
     "data": {
      "image/png": "[encoded data removed]",
      "text/plain": [
       "<Figure size 1080x360 with 2 Axes>"
      ]
     },
     "metadata": {
      "needs_background": "light"
     },
     "output_type": "display_data"
    },
    {
     "name": "stdout",
     "output_type": "stream",
     "text": [
      "Training MLP took 6387.688879966736 seconds\n"
     ]
    }
   ],
   "source": [
    "# Training\n",
    "import time\n",
    "start = time.time()\n",
    "history = model.fit(X_train, Y_train, batch_size=128, epochs=50, verbose=1, validation_data=(X_test, Y_test))\n",
    "end = time.time()\n",
    "\n",
    "loss, acc = model.evaluate(X_test, Y_test, verbose=0)\n",
    "print('Test loss:', loss)\n",
    "print('Test accuracy:', acc)\n",
    "\n",
    "plot_model_history(history)\n",
    "print(\"Training MLP took \" + str(end - start) + \" seconds\")"
   ]
  },
  {
   "cell_type": "code",
   "execution_count": 18,
   "metadata": {
    "colab": {},
    "colab_type": "code",
    "id": "R4547GWaFX-c"
   },
   "outputs": [
    {
     "name": "stdout",
     "output_type": "stream",
     "text": [
      "_________________________________________________________________\n",
      "Layer (type)                 Output Shape              Param #   \n",
      "=================================================================\n",
      "conv2d_18 (Conv2D)           (None, 32, 32, 24)        672       \n",
      "_________________________________________________________________\n",
      "activation_17 (Activation)   (None, 32, 32, 24)        0         \n",
      "_________________________________________________________________\n",
      "max_pooling2d_9 (MaxPooling2 (None, 16, 16, 24)        0         \n",
      "_________________________________________________________________\n",
      "conv2d_19 (Conv2D)           (None, 16, 16, 72)        15624     \n",
      "_________________________________________________________________\n",
      "activation_18 (Activation)   (None, 16, 16, 72)        0         \n",
      "_________________________________________________________________\n",
      "max_pooling2d_10 (MaxPooling (None, 4, 4, 72)          0         \n",
      "_________________________________________________________________\n",
      "conv2d_20 (Conv2D)           (None, 4, 4, 24)          1752      \n",
      "_________________________________________________________________\n",
      "activation_19 (Activation)   (None, 4, 4, 24)          0         \n",
      "_________________________________________________________________\n",
      "conv2d_21 (Conv2D)           (None, 1, 1, 10)          3850      \n",
      "_________________________________________________________________\n",
      "flatten_5 (Flatten)          (None, 10)                0         \n",
      "_________________________________________________________________\n",
      "activation_20 (Activation)   (None, 10)                0         \n",
      "=================================================================\n",
      "Total params: 21,898\n",
      "Trainable params: 21,898\n",
      "Non-trainable params: 0\n",
      "_________________________________________________________________\n"
     ]
    }
   ],
   "source": [
    "# Convolutional Neural Network (CNN)\n",
    "from keras.models import Sequential\n",
    "from keras.layers import Dense, Activation, Flatten\n",
    "from keras.layers.convolutional import Conv2D, MaxPooling2D\n",
    "import keras.backend as K\n",
    "\n",
    "\n",
    "del model\n",
    "model = Sequential()\n",
    "model.add(Conv2D(filters=int(48/2), kernel_size=(3, 3), padding='same', input_shape=(32, 32, 3)))\n",
    "model.add(Activation('relu'))\n",
    "\n",
    "model.add(MaxPooling2D(pool_size=(2, 2)))\n",
    "\n",
    "model.add(Conv2D(filters=int(72), kernel_size=(3, 3), padding='same'))\n",
    "model.add(Activation('relu'))\n",
    "\n",
    "\n",
    "model.add(MaxPooling2D(pool_size=(4, 4)))\n",
    "\n",
    "model.add(Conv2D(filters=int(24), kernel_size=(1, 1), padding='same'))\n",
    "model.add(Activation('relu'))\n",
    "\n",
    "model.add(Conv2D(filters=10, kernel_size=(4, 4), padding='valid'))\n",
    "model.add(Flatten())\n",
    "model.add(Activation('softmax'))\n",
    "\n",
    "model.compile(optimizer='adam', loss='categorical_crossentropy', metrics=['accuracy'])\n",
    "model.summary()"
   ]
  },
  {
   "cell_type": "code",
   "execution_count": 19,
   "metadata": {},
   "outputs": [
    {
     "name": "stdout",
     "output_type": "stream",
     "text": [
      "Train on 50000 samples, validate on 10000 samples\n",
      "Epoch 1/50\n",
      "50000/50000 [==============================] - 41s 825us/step - loss: 1.7039 - acc: 0.3859 - val_loss: 1.4652 - val_acc: 0.4792\n",
      "Epoch 2/50\n",
      "50000/50000 [==============================] - 43s 862us/step - loss: 1.3842 - acc: 0.5076 - val_loss: 1.3284 - val_acc: 0.5259\n",
      "Epoch 3/50\n",
      "50000/50000 [==============================] - 41s 827us/step - loss: 1.2668 - acc: 0.5530 - val_loss: 1.2340 - val_acc: 0.5642\n",
      "Epoch 4/50\n",
      "50000/50000 [==============================] - 44s 886us/step - loss: 1.1909 - acc: 0.5818 - val_loss: 1.1796 - val_acc: 0.5901\n",
      "Epoch 5/50\n",
      "50000/50000 [==============================] - 36s 728us/step - loss: 1.1349 - acc: 0.6035 - val_loss: 1.1339 - val_acc: 0.5984\n",
      "Epoch 6/50\n",
      "50000/50000 [==============================] - 36s 724us/step - loss: 1.0836 - acc: 0.6230 - val_loss: 1.0796 - val_acc: 0.6280\n",
      "Epoch 7/50\n",
      "50000/50000 [==============================] - 36s 719us/step - loss: 1.0509 - acc: 0.6327 - val_loss: 1.0446 - val_acc: 0.6366\n",
      "Epoch 8/50\n",
      "50000/50000 [==============================] - 36s 715us/step - loss: 1.0145 - acc: 0.6465 - val_loss: 1.0304 - val_acc: 0.6404\n",
      "Epoch 9/50\n",
      "50000/50000 [==============================] - 36s 719us/step - loss: 0.9819 - acc: 0.6582 - val_loss: 0.9964 - val_acc: 0.6520\n",
      "Epoch 10/50\n",
      "50000/50000 [==============================] - 39s 772us/step - loss: 0.9551 - acc: 0.6688 - val_loss: 1.0302 - val_acc: 0.6352\n",
      "Epoch 11/50\n",
      "50000/50000 [==============================] - 39s 775us/step - loss: 0.9311 - acc: 0.6764 - val_loss: 0.9614 - val_acc: 0.6655\n",
      "Epoch 12/50\n",
      "50000/50000 [==============================] - 2289s 46ms/step - loss: 0.9094 - acc: 0.6841 - val_loss: 1.0252 - val_acc: 0.6443\n",
      "Epoch 13/50\n",
      "50000/50000 [==============================] - 47s 939us/step - loss: 0.8906 - acc: 0.6905 - val_loss: 0.9479 - val_acc: 0.6711\n",
      "Epoch 14/50\n",
      "50000/50000 [==============================] - 36s 725us/step - loss: 0.8701 - acc: 0.7012 - val_loss: 0.9329 - val_acc: 0.6805\n",
      "Epoch 15/50\n",
      "50000/50000 [==============================] - 37s 738us/step - loss: 0.8565 - acc: 0.7030 - val_loss: 0.9558 - val_acc: 0.6748\n",
      "Epoch 16/50\n",
      "50000/50000 [==============================] - 3129s 63ms/step - loss: 0.8428 - acc: 0.7080 - val_loss: 0.9162 - val_acc: 0.6840\n",
      "Epoch 17/50\n",
      "50000/50000 [==============================] - 63s 1ms/step - loss: 0.8265 - acc: 0.7140 - val_loss: 0.8870 - val_acc: 0.6926\n",
      "Epoch 18/50\n",
      "50000/50000 [==============================] - 38s 768us/step - loss: 0.8153 - acc: 0.7174 - val_loss: 0.8824 - val_acc: 0.6953\n",
      "Epoch 19/50\n",
      "50000/50000 [==============================] - 37s 749us/step - loss: 0.8021 - acc: 0.7231 - val_loss: 0.8640 - val_acc: 0.7038\n",
      "Epoch 20/50\n",
      "50000/50000 [==============================] - 36s 718us/step - loss: 0.7915 - acc: 0.7272 - val_loss: 0.8805 - val_acc: 0.6948\n",
      "Epoch 21/50\n",
      "50000/50000 [==============================] - 36s 722us/step - loss: 0.7806 - acc: 0.7299 - val_loss: 0.8758 - val_acc: 0.6969\n",
      "Epoch 22/50\n",
      "50000/50000 [==============================] - 37s 734us/step - loss: 0.7726 - acc: 0.7325 - val_loss: 0.8624 - val_acc: 0.7018\n",
      "Epoch 23/50\n",
      "50000/50000 [==============================] - 36s 714us/step - loss: 0.7622 - acc: 0.7351 - val_loss: 0.9105 - val_acc: 0.6864\n",
      "Epoch 24/50\n",
      "50000/50000 [==============================] - 36s 722us/step - loss: 0.7552 - acc: 0.7388 - val_loss: 0.8600 - val_acc: 0.7024\n",
      "Epoch 25/50\n",
      "50000/50000 [==============================] - 37s 741us/step - loss: 0.7419 - acc: 0.7443 - val_loss: 0.8792 - val_acc: 0.6967\n",
      "Epoch 26/50\n",
      "50000/50000 [==============================] - 36s 712us/step - loss: 0.7334 - acc: 0.7468 - val_loss: 0.8578 - val_acc: 0.7045\n",
      "Epoch 27/50\n",
      "50000/50000 [==============================] - 37s 747us/step - loss: 0.7258 - acc: 0.7487 - val_loss: 0.8615 - val_acc: 0.7044\n",
      "Epoch 28/50\n",
      "50000/50000 [==============================] - 42s 846us/step - loss: 0.7182 - acc: 0.7508 - val_loss: 0.8795 - val_acc: 0.6959\n",
      "Epoch 29/50\n",
      "50000/50000 [==============================] - 36s 714us/step - loss: 0.7090 - acc: 0.7549 - val_loss: 0.8393 - val_acc: 0.7107\n",
      "Epoch 30/50\n",
      "50000/50000 [==============================] - 37s 738us/step - loss: 0.7033 - acc: 0.7558 - val_loss: 0.8512 - val_acc: 0.7081\n",
      "Epoch 31/50\n",
      "50000/50000 [==============================] - 36s 725us/step - loss: 0.6960 - acc: 0.7584 - val_loss: 0.8503 - val_acc: 0.7128\n",
      "Epoch 32/50\n",
      "50000/50000 [==============================] - 36s 720us/step - loss: 0.6900 - acc: 0.7618 - val_loss: 0.8309 - val_acc: 0.7156\n",
      "Epoch 33/50\n",
      "50000/50000 [==============================] - 36s 717us/step - loss: 0.6876 - acc: 0.7604 - val_loss: 0.8477 - val_acc: 0.7096\n",
      "Epoch 34/50\n",
      "50000/50000 [==============================] - 37s 733us/step - loss: 0.6775 - acc: 0.7645 - val_loss: 0.8289 - val_acc: 0.7144\n",
      "Epoch 35/50\n",
      "50000/50000 [==============================] - 37s 735us/step - loss: 0.6733 - acc: 0.7666 - val_loss: 0.8652 - val_acc: 0.7063\n",
      "Epoch 36/50\n",
      "50000/50000 [==============================] - 36s 722us/step - loss: 0.6642 - acc: 0.7702 - val_loss: 0.8455 - val_acc: 0.7153\n",
      "Epoch 37/50\n",
      "50000/50000 [==============================] - 1167s 23ms/step - loss: 0.6560 - acc: 0.7716 - val_loss: 0.8274 - val_acc: 0.7177\n",
      "Epoch 38/50\n",
      "50000/50000 [==============================] - 40s 796us/step - loss: 0.6557 - acc: 0.7696 - val_loss: 0.8240 - val_acc: 0.7221\n",
      "Epoch 39/50\n",
      "50000/50000 [==============================] - 42s 838us/step - loss: 0.6443 - acc: 0.7745 - val_loss: 0.8695 - val_acc: 0.7149\n",
      "Epoch 40/50\n",
      "50000/50000 [==============================] - 40s 791us/step - loss: 0.6500 - acc: 0.7742 - val_loss: 0.8332 - val_acc: 0.7179\n",
      "Epoch 41/50\n",
      "50000/50000 [==============================] - 39s 787us/step - loss: 0.6384 - acc: 0.7774 - val_loss: 0.8324 - val_acc: 0.7167\n",
      "Epoch 42/50\n",
      "50000/50000 [==============================] - 41s 825us/step - loss: 0.6362 - acc: 0.7787 - val_loss: 0.8196 - val_acc: 0.7246\n",
      "Epoch 43/50\n",
      "50000/50000 [==============================] - 40s 790us/step - loss: 0.6265 - acc: 0.7799 - val_loss: 0.8359 - val_acc: 0.7205\n",
      "Epoch 44/50\n",
      "50000/50000 [==============================] - 37s 738us/step - loss: 0.6232 - acc: 0.7836 - val_loss: 0.8076 - val_acc: 0.7283\n",
      "Epoch 45/50\n",
      "50000/50000 [==============================] - 36s 712us/step - loss: 0.6177 - acc: 0.7841 - val_loss: 0.8495 - val_acc: 0.7169\n",
      "Epoch 46/50\n",
      "50000/50000 [==============================] - 40s 796us/step - loss: 0.6193 - acc: 0.7844 - val_loss: 0.8367 - val_acc: 0.7204\n",
      "Epoch 47/50\n",
      "50000/50000 [==============================] - 38s 766us/step - loss: 0.6102 - acc: 0.7872 - val_loss: 0.8160 - val_acc: 0.7204\n",
      "Epoch 48/50\n",
      "50000/50000 [==============================] - 42s 832us/step - loss: 0.6053 - acc: 0.7865 - val_loss: 0.8225 - val_acc: 0.7241\n",
      "Epoch 49/50\n",
      "50000/50000 [==============================] - 42s 831us/step - loss: 0.6032 - acc: 0.7901 - val_loss: 0.8151 - val_acc: 0.7282\n",
      "Epoch 50/50\n",
      "50000/50000 [==============================] - 38s 757us/step - loss: 0.6030 - acc: 0.7908 - val_loss: 0.8297 - val_acc: 0.7231\n",
      "Test loss: 0.8297336735725402\n",
      "Test accuracy: 0.7231\n"
     ]
    },
    {
     "data": {
      "image/png": "[encoded data removed]",
      "text/plain": [
       "<Figure size 1080x360 with 2 Axes>"
      ]
     },
     "metadata": {
      "needs_background": "light"
     },
     "output_type": "display_data"
    },
    {
     "name": "stdout",
     "output_type": "stream",
     "text": [
      "Training MLP took 8407.833796977997 seconds\n"
     ]
    }
   ],
   "source": [
    "\n",
    "import time\n",
    "start = time.time()\n",
    "history = model.fit(X_train, Y_train, batch_size=128, epochs=50, verbose=1, validation_data=(X_test, Y_test))\n",
    "end = time.time()\n",
    "\n",
    "loss, acc = model.evaluate(X_test, Y_test, verbose=0)\n",
    "print('Test loss:', loss)\n",
    "print('Test accuracy:', acc)\n",
    "\n",
    "plot_model_history(history)\n",
    "print(\"Training MLP took \" + str(end - start) + \" seconds\")"
   ]
  },
  {
   "cell_type": "markdown",
   "metadata": {},
   "source": [
    "## Add regularization L2 -> 0.1"
   ]
  },
  {
   "cell_type": "code",
   "execution_count": 23,
   "metadata": {},
   "outputs": [
    {
     "name": "stdout",
     "output_type": "stream",
     "text": [
      "_________________________________________________________________\n",
      "Layer (type)                 Output Shape              Param #   \n",
      "=================================================================\n",
      "conv2d_33 (Conv2D)           (None, 32, 32, 48)        1344      \n",
      "_________________________________________________________________\n",
      "activation_34 (Activation)   (None, 32, 32, 48)        0         \n",
      "_________________________________________________________________\n",
      "max_pooling2d_19 (MaxPooling (None, 16, 16, 48)        0         \n",
      "_________________________________________________________________\n",
      "conv2d_34 (Conv2D)           (None, 16, 16, 96)        41568     \n",
      "_________________________________________________________________\n",
      "activation_35 (Activation)   (None, 16, 16, 96)        0         \n",
      "_________________________________________________________________\n",
      "max_pooling2d_20 (MaxPooling (None, 8, 8, 96)          0         \n",
      "_________________________________________________________________\n",
      "conv2d_35 (Conv2D)           (None, 8, 8, 192)         166080    \n",
      "_________________________________________________________________\n",
      "activation_36 (Activation)   (None, 8, 8, 192)         0         \n",
      "_________________________________________________________________\n",
      "max_pooling2d_21 (MaxPooling (None, 4, 4, 192)         0         \n",
      "_________________________________________________________________\n",
      "conv2d_36 (Conv2D)           (None, 4, 4, 32)          6176      \n",
      "_________________________________________________________________\n",
      "activation_37 (Activation)   (None, 4, 4, 32)          0         \n",
      "_________________________________________________________________\n",
      "conv2d_37 (Conv2D)           (None, 1, 1, 10)          5130      \n",
      "_________________________________________________________________\n",
      "flatten_9 (Flatten)          (None, 10)                0         \n",
      "_________________________________________________________________\n",
      "activation_38 (Activation)   (None, 10)                0         \n",
      "=================================================================\n",
      "Total params: 220,298\n",
      "Trainable params: 220,298\n",
      "Non-trainable params: 0\n",
      "_________________________________________________________________\n"
     ]
    }
   ],
   "source": [
    "# Convolutional Neural Network (CNN)\n",
    "from keras.models import Sequential\n",
    "from keras.layers import Dense, Activation, Flatten\n",
    "from keras.layers.convolutional import Conv2D, MaxPooling2D\n",
    "import keras.backend as K\n",
    "from keras import regularizers\n",
    "del model\n",
    "model = Sequential()\n",
    "model.add(Conv2D(filters=48, kernel_size=(3, 3),kernel_regularizer=regularizers.l2(0.1), \n",
    "                 padding='same', input_shape=(32, 32, 3)))\n",
    "model.add(Activation('relu'))\n",
    "\n",
    "model.add(MaxPooling2D(pool_size=(2, 2)))\n",
    "\n",
    "model.add(Conv2D(filters=96, kernel_size=(3, 3), kernel_regularizer=regularizers.l2(0.1),  padding='same'))\n",
    "model.add(Activation('relu'))\n",
    "\n",
    "model.add(MaxPooling2D(pool_size=(2, 2)))\n",
    "\n",
    "\n",
    "model.add(Conv2D(filters=192, kernel_size=(3, 3), kernel_regularizer=regularizers.l2(0.1),  padding='same'))\n",
    "model.add(Activation('relu'))\n",
    "\n",
    "model.add(MaxPooling2D(pool_size=(2, 2)))\n",
    "\n",
    "model.add(Conv2D(filters=32, kernel_size=(1, 1), kernel_regularizer=regularizers.l2(0.1),  padding='same'))\n",
    "model.add(Activation('relu'))\n",
    "\n",
    "model.add(Conv2D(filters=10, kernel_size=(4, 4), padding='valid'))\n",
    "model.add(Flatten())\n",
    "model.add(Activation('softmax'))\n",
    "\n",
    "model.compile(optimizer='adam', loss='categorical_crossentropy', metrics=['accuracy'])\n",
    "model.summary()"
   ]
  },
  {
   "cell_type": "code",
   "execution_count": 29,
   "metadata": {},
   "outputs": [
    {
     "name": "stdout",
     "output_type": "stream",
     "text": [
      "_________________________________________________________________\n",
      "Layer (type)                 Output Shape              Param #   \n",
      "=================================================================\n",
      "conv2d_58 (Conv2D)           (None, 32, 32, 48)        1344      \n",
      "_________________________________________________________________\n",
      "activation_59 (Activation)   (None, 32, 32, 48)        0         \n",
      "_________________________________________________________________\n",
      "max_pooling2d_32 (MaxPooling (None, 16, 16, 48)        0         \n",
      "_________________________________________________________________\n",
      "conv2d_59 (Conv2D)           (None, 16, 16, 96)        41568     \n",
      "_________________________________________________________________\n",
      "activation_60 (Activation)   (None, 16, 16, 96)        0         \n",
      "_________________________________________________________________\n",
      "max_pooling2d_33 (MaxPooling (None, 4, 4, 96)          0         \n",
      "_________________________________________________________________\n",
      "conv2d_60 (Conv2D)           (None, 4, 4, 32)          3104      \n",
      "_________________________________________________________________\n",
      "activation_61 (Activation)   (None, 4, 4, 32)          0         \n",
      "_________________________________________________________________\n",
      "conv2d_61 (Conv2D)           (None, 1, 1, 10)          5130      \n",
      "_________________________________________________________________\n",
      "flatten_15 (Flatten)         (None, 10)                0         \n",
      "_________________________________________________________________\n",
      "activation_62 (Activation)   (None, 10)                0         \n",
      "=================================================================\n",
      "Total params: 51,146\n",
      "Trainable params: 51,146\n",
      "Non-trainable params: 0\n",
      "_________________________________________________________________\n"
     ]
    }
   ],
   "source": [
    "# Convolutional Neural Network (CNN)\n",
    "from keras.models import Sequential\n",
    "from keras.layers import Dense, Activation, Flatten\n",
    "from keras.layers.convolutional import Conv2D, MaxPooling2D\n",
    "import keras.backend as K\n",
    "from keras import regularizers\n",
    "del model\n",
    "model = Sequential()\n",
    "model.add(Conv2D(filters=48, kernel_size=(3, 3),kernel_regularizer=regularizers.l2(0.1), \n",
    "                 padding='same', input_shape=(32, 32, 3)))\n",
    "model.add(Activation('relu'))\n",
    "\n",
    "model.add(MaxPooling2D(pool_size=(2, 2)))\n",
    "\n",
    "model.add(Conv2D(filters=96, kernel_size=(3, 3), kernel_regularizer=regularizers.l2(0.1),  padding='same'))\n",
    "model.add(Activation('relu'))\n",
    "\n",
    "model.add(MaxPooling2D(pool_size=(4, 4)))\n",
    "\n",
    "\n",
    "model.add(Conv2D(filters=32, kernel_size=(1, 1), kernel_regularizer=regularizers.l2(0.1),  padding='same'))\n",
    "model.add(Activation('relu'))\n",
    "\n",
    "model.add(Conv2D(filters=10, kernel_size=(4, 4), padding='valid'))\n",
    "model.add(Flatten())\n",
    "model.add(Activation('softmax'))\n",
    "\n",
    "model.compile(optimizer='adam', loss='categorical_crossentropy', metrics=['accuracy'])\n",
    "model.summary()"
   ]
  },
  {
   "cell_type": "code",
   "execution_count": 30,
   "metadata": {
    "scrolled": true
   },
   "outputs": [
    {
     "name": "stdout",
     "output_type": "stream",
     "text": [
      "Train on 50000 samples, validate on 10000 samples\n",
      "Epoch 1/20\n",
      " 4224/50000 [=>............................] - ETA: 1:34 - loss: 9.7734 - acc: 0.1262"
     ]
    },
    {
     "ename": "KeyboardInterrupt",
     "evalue": "",
     "output_type": "error",
     "traceback": [
      "\u001b[0;31m---------------------------------------------------------------------------\u001b[0m",
      "\u001b[0;31mKeyboardInterrupt\u001b[0m                         Traceback (most recent call last)",
      "\u001b[0;32m<ipython-input-30-c50688b26168>\u001b[0m in \u001b[0;36m<module>\u001b[0;34m\u001b[0m\n\u001b[1;32m      2\u001b[0m \u001b[0;32mimport\u001b[0m \u001b[0mtime\u001b[0m\u001b[0;34m\u001b[0m\u001b[0m\n\u001b[1;32m      3\u001b[0m \u001b[0mstart\u001b[0m \u001b[0;34m=\u001b[0m \u001b[0mtime\u001b[0m\u001b[0;34m.\u001b[0m\u001b[0mtime\u001b[0m\u001b[0;34m(\u001b[0m\u001b[0;34m)\u001b[0m\u001b[0;34m\u001b[0m\u001b[0m\n\u001b[0;32m----> 4\u001b[0;31m \u001b[0mhistory\u001b[0m \u001b[0;34m=\u001b[0m \u001b[0mmodel\u001b[0m\u001b[0;34m.\u001b[0m\u001b[0mfit\u001b[0m\u001b[0;34m(\u001b[0m\u001b[0mX_train\u001b[0m\u001b[0;34m,\u001b[0m \u001b[0mY_train\u001b[0m\u001b[0;34m,\u001b[0m \u001b[0mbatch_size\u001b[0m\u001b[0;34m=\u001b[0m\u001b[0;36m128\u001b[0m\u001b[0;34m,\u001b[0m \u001b[0mepochs\u001b[0m\u001b[0;34m=\u001b[0m\u001b[0;36m20\u001b[0m\u001b[0;34m,\u001b[0m \u001b[0mverbose\u001b[0m\u001b[0;34m=\u001b[0m\u001b[0;36m1\u001b[0m\u001b[0;34m,\u001b[0m \u001b[0mvalidation_data\u001b[0m\u001b[0;34m=\u001b[0m\u001b[0;34m(\u001b[0m\u001b[0mX_test\u001b[0m\u001b[0;34m,\u001b[0m \u001b[0mY_test\u001b[0m\u001b[0;34m)\u001b[0m\u001b[0;34m)\u001b[0m\u001b[0;34m\u001b[0m\u001b[0m\n\u001b[0m\u001b[1;32m      5\u001b[0m \u001b[0mend\u001b[0m \u001b[0;34m=\u001b[0m \u001b[0mtime\u001b[0m\u001b[0;34m.\u001b[0m\u001b[0mtime\u001b[0m\u001b[0;34m(\u001b[0m\u001b[0;34m)\u001b[0m\u001b[0;34m\u001b[0m\u001b[0m\n\u001b[1;32m      6\u001b[0m \u001b[0;34m\u001b[0m\u001b[0m\n",
      "\u001b[0;32m~/.virtualenvs/CV/lib/python3.6/site-packages/keras/engine/training.py\u001b[0m in \u001b[0;36mfit\u001b[0;34m(self, x, y, batch_size, epochs, verbose, callbacks, validation_split, validation_data, shuffle, class_weight, sample_weight, initial_epoch, steps_per_epoch, validation_steps, **kwargs)\u001b[0m\n\u001b[1;32m   1037\u001b[0m                                         \u001b[0minitial_epoch\u001b[0m\u001b[0;34m=\u001b[0m\u001b[0minitial_epoch\u001b[0m\u001b[0;34m,\u001b[0m\u001b[0;34m\u001b[0m\u001b[0m\n\u001b[1;32m   1038\u001b[0m                                         \u001b[0msteps_per_epoch\u001b[0m\u001b[0;34m=\u001b[0m\u001b[0msteps_per_epoch\u001b[0m\u001b[0;34m,\u001b[0m\u001b[0;34m\u001b[0m\u001b[0m\n\u001b[0;32m-> 1039\u001b[0;31m                                         validation_steps=validation_steps)\n\u001b[0m\u001b[1;32m   1040\u001b[0m \u001b[0;34m\u001b[0m\u001b[0m\n\u001b[1;32m   1041\u001b[0m     def evaluate(self, x=None, y=None,\n",
      "\u001b[0;32m~/.virtualenvs/CV/lib/python3.6/site-packages/keras/engine/training_arrays.py\u001b[0m in \u001b[0;36mfit_loop\u001b[0;34m(model, f, ins, out_labels, batch_size, epochs, verbose, callbacks, val_f, val_ins, shuffle, callback_metrics, initial_epoch, steps_per_epoch, validation_steps)\u001b[0m\n\u001b[1;32m    197\u001b[0m                     \u001b[0mins_batch\u001b[0m\u001b[0;34m[\u001b[0m\u001b[0mi\u001b[0m\u001b[0;34m]\u001b[0m \u001b[0;34m=\u001b[0m \u001b[0mins_batch\u001b[0m\u001b[0;34m[\u001b[0m\u001b[0mi\u001b[0m\u001b[0;34m]\u001b[0m\u001b[0;34m.\u001b[0m\u001b[0mtoarray\u001b[0m\u001b[0;34m(\u001b[0m\u001b[0;34m)\u001b[0m\u001b[0;34m\u001b[0m\u001b[0m\n\u001b[1;32m    198\u001b[0m \u001b[0;34m\u001b[0m\u001b[0m\n\u001b[0;32m--> 199\u001b[0;31m                 \u001b[0mouts\u001b[0m \u001b[0;34m=\u001b[0m \u001b[0mf\u001b[0m\u001b[0;34m(\u001b[0m\u001b[0mins_batch\u001b[0m\u001b[0;34m)\u001b[0m\u001b[0;34m\u001b[0m\u001b[0m\n\u001b[0m\u001b[1;32m    200\u001b[0m                 \u001b[0mouts\u001b[0m \u001b[0;34m=\u001b[0m \u001b[0mto_list\u001b[0m\u001b[0;34m(\u001b[0m\u001b[0mouts\u001b[0m\u001b[0;34m)\u001b[0m\u001b[0;34m\u001b[0m\u001b[0m\n\u001b[1;32m    201\u001b[0m                 \u001b[0;32mfor\u001b[0m \u001b[0ml\u001b[0m\u001b[0;34m,\u001b[0m \u001b[0mo\u001b[0m \u001b[0;32min\u001b[0m \u001b[0mzip\u001b[0m\u001b[0;34m(\u001b[0m\u001b[0mout_labels\u001b[0m\u001b[0;34m,\u001b[0m \u001b[0mouts\u001b[0m\u001b[0;34m)\u001b[0m\u001b[0;34m:\u001b[0m\u001b[0;34m\u001b[0m\u001b[0m\n",
      "\u001b[0;32m~/.virtualenvs/CV/lib/python3.6/site-packages/keras/backend/tensorflow_backend.py\u001b[0m in \u001b[0;36m__call__\u001b[0;34m(self, inputs)\u001b[0m\n\u001b[1;32m   2713\u001b[0m                 \u001b[0;32mreturn\u001b[0m \u001b[0mself\u001b[0m\u001b[0;34m.\u001b[0m\u001b[0m_legacy_call\u001b[0m\u001b[0;34m(\u001b[0m\u001b[0minputs\u001b[0m\u001b[0;34m)\u001b[0m\u001b[0;34m\u001b[0m\u001b[0m\n\u001b[1;32m   2714\u001b[0m \u001b[0;34m\u001b[0m\u001b[0m\n\u001b[0;32m-> 2715\u001b[0;31m             \u001b[0;32mreturn\u001b[0m \u001b[0mself\u001b[0m\u001b[0;34m.\u001b[0m\u001b[0m_call\u001b[0m\u001b[0;34m(\u001b[0m\u001b[0minputs\u001b[0m\u001b[0;34m)\u001b[0m\u001b[0;34m\u001b[0m\u001b[0m\n\u001b[0m\u001b[1;32m   2716\u001b[0m         \u001b[0;32melse\u001b[0m\u001b[0;34m:\u001b[0m\u001b[0;34m\u001b[0m\u001b[0m\n\u001b[1;32m   2717\u001b[0m             \u001b[0;32mif\u001b[0m \u001b[0mpy_any\u001b[0m\u001b[0;34m(\u001b[0m\u001b[0mis_tensor\u001b[0m\u001b[0;34m(\u001b[0m\u001b[0mx\u001b[0m\u001b[0;34m)\u001b[0m \u001b[0;32mfor\u001b[0m \u001b[0mx\u001b[0m \u001b[0;32min\u001b[0m \u001b[0minputs\u001b[0m\u001b[0;34m)\u001b[0m\u001b[0;34m:\u001b[0m\u001b[0;34m\u001b[0m\u001b[0m\n",
      "\u001b[0;32m~/.virtualenvs/CV/lib/python3.6/site-packages/keras/backend/tensorflow_backend.py\u001b[0m in \u001b[0;36m_call\u001b[0;34m(self, inputs)\u001b[0m\n\u001b[1;32m   2673\u001b[0m             \u001b[0mfetched\u001b[0m \u001b[0;34m=\u001b[0m \u001b[0mself\u001b[0m\u001b[0;34m.\u001b[0m\u001b[0m_callable_fn\u001b[0m\u001b[0;34m(\u001b[0m\u001b[0;34m*\u001b[0m\u001b[0marray_vals\u001b[0m\u001b[0;34m,\u001b[0m \u001b[0mrun_metadata\u001b[0m\u001b[0;34m=\u001b[0m\u001b[0mself\u001b[0m\u001b[0;34m.\u001b[0m\u001b[0mrun_metadata\u001b[0m\u001b[0;34m)\u001b[0m\u001b[0;34m\u001b[0m\u001b[0m\n\u001b[1;32m   2674\u001b[0m         \u001b[0;32melse\u001b[0m\u001b[0;34m:\u001b[0m\u001b[0;34m\u001b[0m\u001b[0m\n\u001b[0;32m-> 2675\u001b[0;31m             \u001b[0mfetched\u001b[0m \u001b[0;34m=\u001b[0m \u001b[0mself\u001b[0m\u001b[0;34m.\u001b[0m\u001b[0m_callable_fn\u001b[0m\u001b[0;34m(\u001b[0m\u001b[0;34m*\u001b[0m\u001b[0marray_vals\u001b[0m\u001b[0;34m)\u001b[0m\u001b[0;34m\u001b[0m\u001b[0m\n\u001b[0m\u001b[1;32m   2676\u001b[0m         \u001b[0;32mreturn\u001b[0m \u001b[0mfetched\u001b[0m\u001b[0;34m[\u001b[0m\u001b[0;34m:\u001b[0m\u001b[0mlen\u001b[0m\u001b[0;34m(\u001b[0m\u001b[0mself\u001b[0m\u001b[0;34m.\u001b[0m\u001b[0moutputs\u001b[0m\u001b[0;34m)\u001b[0m\u001b[0;34m]\u001b[0m\u001b[0;34m\u001b[0m\u001b[0m\n\u001b[1;32m   2677\u001b[0m \u001b[0;34m\u001b[0m\u001b[0m\n",
      "\u001b[0;32m~/.virtualenvs/CV/lib/python3.6/site-packages/tensorflow/python/client/session.py\u001b[0m in \u001b[0;36m__call__\u001b[0;34m(self, *args, **kwargs)\u001b[0m\n\u001b[1;32m   1437\u001b[0m           ret = tf_session.TF_SessionRunCallable(\n\u001b[1;32m   1438\u001b[0m               \u001b[0mself\u001b[0m\u001b[0;34m.\u001b[0m\u001b[0m_session\u001b[0m\u001b[0;34m.\u001b[0m\u001b[0m_session\u001b[0m\u001b[0;34m,\u001b[0m \u001b[0mself\u001b[0m\u001b[0;34m.\u001b[0m\u001b[0m_handle\u001b[0m\u001b[0;34m,\u001b[0m \u001b[0margs\u001b[0m\u001b[0;34m,\u001b[0m \u001b[0mstatus\u001b[0m\u001b[0;34m,\u001b[0m\u001b[0;34m\u001b[0m\u001b[0m\n\u001b[0;32m-> 1439\u001b[0;31m               run_metadata_ptr)\n\u001b[0m\u001b[1;32m   1440\u001b[0m         \u001b[0;32mif\u001b[0m \u001b[0mrun_metadata\u001b[0m\u001b[0;34m:\u001b[0m\u001b[0;34m\u001b[0m\u001b[0m\n\u001b[1;32m   1441\u001b[0m           \u001b[0mproto_data\u001b[0m \u001b[0;34m=\u001b[0m \u001b[0mtf_session\u001b[0m\u001b[0;34m.\u001b[0m\u001b[0mTF_GetBuffer\u001b[0m\u001b[0;34m(\u001b[0m\u001b[0mrun_metadata_ptr\u001b[0m\u001b[0;34m)\u001b[0m\u001b[0;34m\u001b[0m\u001b[0m\n",
      "\u001b[0;31mKeyboardInterrupt\u001b[0m: "
     ]
    }
   ],
   "source": [
    "# Training\n",
    "import time\n",
    "start = time.time()\n",
    "history = model.fit(X_train, Y_train, batch_size=128, epochs=20, verbose=1, validation_data=(X_test, Y_test))\n",
    "end = time.time()\n",
    "\n",
    "loss, acc = model.evaluate(X_test, Y_test, verbose=0)\n",
    "print('Test loss:', loss)\n",
    "print('Test accuracy:', acc)\n",
    "\n",
    "plot_model_history(history)\n",
    "print(\"Training MLP took \" + str(end - start) + \" seconds\")"
   ]
  },
  {
   "cell_type": "code",
   "execution_count": 41,
   "metadata": {
    "scrolled": true
   },
   "outputs": [
    {
     "name": "stdout",
     "output_type": "stream",
     "text": [
      "Train on 50000 samples, validate on 10000 samples\n",
      "Epoch 1/20\n",
      "50000/50000 [==============================] - 55s 1ms/step - loss: 1.5014 - acc: 0.4615 - val_loss: 1.2601 - val_acc: 0.5616\n",
      "Epoch 2/20\n",
      "50000/50000 [==============================] - 53s 1ms/step - loss: 1.1081 - acc: 0.6078 - val_loss: 1.0450 - val_acc: 0.6348\n",
      "Epoch 3/20\n",
      "50000/50000 [==============================] - 52s 1ms/step - loss: 0.9249 - acc: 0.6756 - val_loss: 0.9092 - val_acc: 0.6808\n",
      "Epoch 4/20\n",
      "50000/50000 [==============================] - 53s 1ms/step - loss: 0.8048 - acc: 0.7193 - val_loss: 0.8942 - val_acc: 0.6899\n",
      "Epoch 5/20\n",
      "50000/50000 [==============================] - 52s 1ms/step - loss: 0.7020 - acc: 0.7536 - val_loss: 0.7964 - val_acc: 0.7266\n",
      "Epoch 6/20\n",
      "50000/50000 [==============================] - 52s 1ms/step - loss: 0.6124 - acc: 0.7863 - val_loss: 0.7965 - val_acc: 0.7365\n",
      "Epoch 7/20\n",
      "50000/50000 [==============================] - 53s 1ms/step - loss: 0.5230 - acc: 0.8165 - val_loss: 0.7831 - val_acc: 0.7361\n",
      "Epoch 8/20\n",
      "50000/50000 [==============================] - 53s 1ms/step - loss: 0.4456 - acc: 0.8445 - val_loss: 0.8065 - val_acc: 0.7377\n",
      "Epoch 9/20\n",
      "50000/50000 [==============================] - 53s 1ms/step - loss: 0.3726 - acc: 0.8707 - val_loss: 0.8006 - val_acc: 0.7493\n",
      "Epoch 10/20\n",
      "50000/50000 [==============================] - 53s 1ms/step - loss: 0.2899 - acc: 0.8997 - val_loss: 0.8547 - val_acc: 0.7408\n",
      "Epoch 11/20\n",
      "50000/50000 [==============================] - 58s 1ms/step - loss: 0.2183 - acc: 0.9259 - val_loss: 0.9545 - val_acc: 0.7305\n",
      "Epoch 12/20\n",
      "50000/50000 [==============================] - 59s 1ms/step - loss: 0.1713 - acc: 0.9422 - val_loss: 1.0458 - val_acc: 0.7362\n",
      "Epoch 13/20\n",
      "13056/50000 [======>.......................] - ETA: 37s - loss: 0.1010 - acc: 0.9697"
     ]
    },
    {
     "ename": "KeyboardInterrupt",
     "evalue": "",
     "output_type": "error",
     "traceback": [
      "\u001b[0;31m---------------------------------------------------------------------------\u001b[0m",
      "\u001b[0;31mKeyboardInterrupt\u001b[0m                         Traceback (most recent call last)",
      "\u001b[0;32m<ipython-input-41-92b755ef7526>\u001b[0m in \u001b[0;36m<module>\u001b[0;34m\u001b[0m\n\u001b[1;32m     53\u001b[0m \u001b[0mcnn_model_cif\u001b[0m \u001b[0;34m=\u001b[0m \u001b[0mRobModel\u001b[0m\u001b[0;34m(\u001b[0m\u001b[0;34m(\u001b[0m\u001b[0;36m32\u001b[0m\u001b[0;34m,\u001b[0m \u001b[0;36m32\u001b[0m\u001b[0;34m,\u001b[0m \u001b[0;36m3\u001b[0m\u001b[0;34m)\u001b[0m\u001b[0;34m)\u001b[0m\u001b[0;34m\u001b[0m\u001b[0m\n\u001b[1;32m     54\u001b[0m \u001b[0mcnn_model_cif\u001b[0m\u001b[0;34m.\u001b[0m\u001b[0mcompile\u001b[0m\u001b[0;34m(\u001b[0m\u001b[0moptimizer\u001b[0m \u001b[0;34m=\u001b[0m \u001b[0;34m\"adam\"\u001b[0m\u001b[0;34m,\u001b[0m \u001b[0mloss\u001b[0m\u001b[0;34m=\u001b[0m\u001b[0;34m\"categorical_crossentropy\"\u001b[0m\u001b[0;34m,\u001b[0m \u001b[0mmetrics\u001b[0m \u001b[0;34m=\u001b[0m \u001b[0;34m[\u001b[0m\u001b[0;34m\"accuracy\"\u001b[0m\u001b[0;34m]\u001b[0m\u001b[0;34m)\u001b[0m\u001b[0;34m\u001b[0m\u001b[0m\n\u001b[0;32m---> 55\u001b[0;31m \u001b[0mcnn_model_cif\u001b[0m\u001b[0;34m.\u001b[0m\u001b[0mfit\u001b[0m\u001b[0;34m(\u001b[0m\u001b[0mX_train\u001b[0m\u001b[0;34m,\u001b[0m \u001b[0mY_train\u001b[0m\u001b[0;34m,\u001b[0m \u001b[0mbatch_size\u001b[0m\u001b[0;34m=\u001b[0m\u001b[0;36m128\u001b[0m\u001b[0;34m,\u001b[0m \u001b[0mepochs\u001b[0m\u001b[0;34m=\u001b[0m\u001b[0;36m20\u001b[0m\u001b[0;34m,\u001b[0m \u001b[0mverbose\u001b[0m\u001b[0;34m=\u001b[0m\u001b[0;36m1\u001b[0m\u001b[0;34m,\u001b[0m \u001b[0mvalidation_data\u001b[0m\u001b[0;34m=\u001b[0m\u001b[0;34m(\u001b[0m\u001b[0mX_test\u001b[0m\u001b[0;34m,\u001b[0m \u001b[0mY_test\u001b[0m\u001b[0;34m)\u001b[0m\u001b[0;34m)\u001b[0m\u001b[0;34m\u001b[0m\u001b[0m\n\u001b[0m",
      "\u001b[0;32m~/.virtualenvs/CV/lib/python3.6/site-packages/keras/engine/training.py\u001b[0m in \u001b[0;36mfit\u001b[0;34m(self, x, y, batch_size, epochs, verbose, callbacks, validation_split, validation_data, shuffle, class_weight, sample_weight, initial_epoch, steps_per_epoch, validation_steps, **kwargs)\u001b[0m\n\u001b[1;32m   1037\u001b[0m                                         \u001b[0minitial_epoch\u001b[0m\u001b[0;34m=\u001b[0m\u001b[0minitial_epoch\u001b[0m\u001b[0;34m,\u001b[0m\u001b[0;34m\u001b[0m\u001b[0m\n\u001b[1;32m   1038\u001b[0m                                         \u001b[0msteps_per_epoch\u001b[0m\u001b[0;34m=\u001b[0m\u001b[0msteps_per_epoch\u001b[0m\u001b[0;34m,\u001b[0m\u001b[0;34m\u001b[0m\u001b[0m\n\u001b[0;32m-> 1039\u001b[0;31m                                         validation_steps=validation_steps)\n\u001b[0m\u001b[1;32m   1040\u001b[0m \u001b[0;34m\u001b[0m\u001b[0m\n\u001b[1;32m   1041\u001b[0m     def evaluate(self, x=None, y=None,\n",
      "\u001b[0;32m~/.virtualenvs/CV/lib/python3.6/site-packages/keras/engine/training_arrays.py\u001b[0m in \u001b[0;36mfit_loop\u001b[0;34m(model, f, ins, out_labels, batch_size, epochs, verbose, callbacks, val_f, val_ins, shuffle, callback_metrics, initial_epoch, steps_per_epoch, validation_steps)\u001b[0m\n\u001b[1;32m    202\u001b[0m                     \u001b[0mbatch_logs\u001b[0m\u001b[0;34m[\u001b[0m\u001b[0ml\u001b[0m\u001b[0;34m]\u001b[0m \u001b[0;34m=\u001b[0m \u001b[0mo\u001b[0m\u001b[0;34m\u001b[0m\u001b[0m\n\u001b[1;32m    203\u001b[0m \u001b[0;34m\u001b[0m\u001b[0m\n\u001b[0;32m--> 204\u001b[0;31m                 \u001b[0mcallbacks\u001b[0m\u001b[0;34m.\u001b[0m\u001b[0mon_batch_end\u001b[0m\u001b[0;34m(\u001b[0m\u001b[0mbatch_index\u001b[0m\u001b[0;34m,\u001b[0m \u001b[0mbatch_logs\u001b[0m\u001b[0;34m)\u001b[0m\u001b[0;34m\u001b[0m\u001b[0m\n\u001b[0m\u001b[1;32m    205\u001b[0m                 \u001b[0;32mif\u001b[0m \u001b[0mcallback_model\u001b[0m\u001b[0;34m.\u001b[0m\u001b[0mstop_training\u001b[0m\u001b[0;34m:\u001b[0m\u001b[0;34m\u001b[0m\u001b[0m\n\u001b[1;32m    206\u001b[0m                     \u001b[0;32mbreak\u001b[0m\u001b[0;34m\u001b[0m\u001b[0m\n",
      "\u001b[0;32m~/.virtualenvs/CV/lib/python3.6/site-packages/keras/callbacks.py\u001b[0m in \u001b[0;36mon_batch_end\u001b[0;34m(self, batch, logs)\u001b[0m\n\u001b[1;32m    115\u001b[0m             \u001b[0mcallback\u001b[0m\u001b[0;34m.\u001b[0m\u001b[0mon_batch_end\u001b[0m\u001b[0;34m(\u001b[0m\u001b[0mbatch\u001b[0m\u001b[0;34m,\u001b[0m \u001b[0mlogs\u001b[0m\u001b[0;34m)\u001b[0m\u001b[0;34m\u001b[0m\u001b[0m\n\u001b[1;32m    116\u001b[0m         \u001b[0mself\u001b[0m\u001b[0;34m.\u001b[0m\u001b[0m_delta_ts_batch_end\u001b[0m\u001b[0;34m.\u001b[0m\u001b[0mappend\u001b[0m\u001b[0;34m(\u001b[0m\u001b[0mtime\u001b[0m\u001b[0;34m.\u001b[0m\u001b[0mtime\u001b[0m\u001b[0;34m(\u001b[0m\u001b[0;34m)\u001b[0m \u001b[0;34m-\u001b[0m \u001b[0mt_before_callbacks\u001b[0m\u001b[0;34m)\u001b[0m\u001b[0;34m\u001b[0m\u001b[0m\n\u001b[0;32m--> 117\u001b[0;31m         \u001b[0mdelta_t_median\u001b[0m \u001b[0;34m=\u001b[0m \u001b[0mnp\u001b[0m\u001b[0;34m.\u001b[0m\u001b[0mmedian\u001b[0m\u001b[0;34m(\u001b[0m\u001b[0mself\u001b[0m\u001b[0;34m.\u001b[0m\u001b[0m_delta_ts_batch_end\u001b[0m\u001b[0;34m)\u001b[0m\u001b[0;34m\u001b[0m\u001b[0m\n\u001b[0m\u001b[1;32m    118\u001b[0m         if (self._delta_t_batch > 0. and\n\u001b[1;32m    119\u001b[0m            (delta_t_median > 0.95 * self._delta_t_batch and delta_t_median > 0.1)):\n",
      "\u001b[0;32m~/.virtualenvs/CV/lib/python3.6/site-packages/numpy/lib/function_base.py\u001b[0m in \u001b[0;36mmedian\u001b[0;34m(a, axis, out, overwrite_input, keepdims)\u001b[0m\n\u001b[1;32m   3334\u001b[0m     \"\"\"\n\u001b[1;32m   3335\u001b[0m     r, k = _ureduce(a, func=_median, axis=axis, out=out,\n\u001b[0;32m-> 3336\u001b[0;31m                     overwrite_input=overwrite_input)\n\u001b[0m\u001b[1;32m   3337\u001b[0m     \u001b[0;32mif\u001b[0m \u001b[0mkeepdims\u001b[0m\u001b[0;34m:\u001b[0m\u001b[0;34m\u001b[0m\u001b[0m\n\u001b[1;32m   3338\u001b[0m         \u001b[0;32mreturn\u001b[0m \u001b[0mr\u001b[0m\u001b[0;34m.\u001b[0m\u001b[0mreshape\u001b[0m\u001b[0;34m(\u001b[0m\u001b[0mk\u001b[0m\u001b[0;34m)\u001b[0m\u001b[0;34m\u001b[0m\u001b[0m\n",
      "\u001b[0;32m~/.virtualenvs/CV/lib/python3.6/site-packages/numpy/lib/function_base.py\u001b[0m in \u001b[0;36m_ureduce\u001b[0;34m(a, func, **kwargs)\u001b[0m\n\u001b[1;32m   3248\u001b[0m         \u001b[0mkeepdim\u001b[0m \u001b[0;34m=\u001b[0m \u001b[0;34m(\u001b[0m\u001b[0;36m1\u001b[0m\u001b[0;34m,\u001b[0m\u001b[0;34m)\u001b[0m \u001b[0;34m*\u001b[0m \u001b[0ma\u001b[0m\u001b[0;34m.\u001b[0m\u001b[0mndim\u001b[0m\u001b[0;34m\u001b[0m\u001b[0m\n\u001b[1;32m   3249\u001b[0m \u001b[0;34m\u001b[0m\u001b[0m\n\u001b[0;32m-> 3250\u001b[0;31m     \u001b[0mr\u001b[0m \u001b[0;34m=\u001b[0m \u001b[0mfunc\u001b[0m\u001b[0;34m(\u001b[0m\u001b[0ma\u001b[0m\u001b[0;34m,\u001b[0m \u001b[0;34m**\u001b[0m\u001b[0mkwargs\u001b[0m\u001b[0;34m)\u001b[0m\u001b[0;34m\u001b[0m\u001b[0m\n\u001b[0m\u001b[1;32m   3251\u001b[0m     \u001b[0;32mreturn\u001b[0m \u001b[0mr\u001b[0m\u001b[0;34m,\u001b[0m \u001b[0mkeepdim\u001b[0m\u001b[0;34m\u001b[0m\u001b[0m\n\u001b[1;32m   3252\u001b[0m \u001b[0;34m\u001b[0m\u001b[0m\n",
      "\u001b[0;32m~/.virtualenvs/CV/lib/python3.6/site-packages/numpy/lib/function_base.py\u001b[0m in \u001b[0;36m_median\u001b[0;34m(a, axis, out, overwrite_input)\u001b[0m\n\u001b[1;32m   3388\u001b[0m         \u001b[0;31m# warn and return nans like mean would\u001b[0m\u001b[0;34m\u001b[0m\u001b[0;34m\u001b[0m\u001b[0m\n\u001b[1;32m   3389\u001b[0m         \u001b[0mrout\u001b[0m \u001b[0;34m=\u001b[0m \u001b[0mmean\u001b[0m\u001b[0;34m(\u001b[0m\u001b[0mpart\u001b[0m\u001b[0;34m[\u001b[0m\u001b[0mindexer\u001b[0m\u001b[0;34m]\u001b[0m\u001b[0;34m,\u001b[0m \u001b[0maxis\u001b[0m\u001b[0;34m=\u001b[0m\u001b[0maxis\u001b[0m\u001b[0;34m,\u001b[0m \u001b[0mout\u001b[0m\u001b[0;34m=\u001b[0m\u001b[0mout\u001b[0m\u001b[0;34m)\u001b[0m\u001b[0;34m\u001b[0m\u001b[0m\n\u001b[0;32m-> 3390\u001b[0;31m         \u001b[0;32mreturn\u001b[0m \u001b[0mnp\u001b[0m\u001b[0;34m.\u001b[0m\u001b[0mlib\u001b[0m\u001b[0;34m.\u001b[0m\u001b[0mutils\u001b[0m\u001b[0;34m.\u001b[0m\u001b[0m_median_nancheck\u001b[0m\u001b[0;34m(\u001b[0m\u001b[0mpart\u001b[0m\u001b[0;34m,\u001b[0m \u001b[0mrout\u001b[0m\u001b[0;34m,\u001b[0m \u001b[0maxis\u001b[0m\u001b[0;34m,\u001b[0m \u001b[0mout\u001b[0m\u001b[0;34m)\u001b[0m\u001b[0;34m\u001b[0m\u001b[0m\n\u001b[0m\u001b[1;32m   3391\u001b[0m     \u001b[0;32melse\u001b[0m\u001b[0;34m:\u001b[0m\u001b[0;34m\u001b[0m\u001b[0m\n\u001b[1;32m   3392\u001b[0m         \u001b[0;31m# if there are no nans\u001b[0m\u001b[0;34m\u001b[0m\u001b[0;34m\u001b[0m\u001b[0m\n",
      "\u001b[0;32m~/.virtualenvs/CV/lib/python3.6/site-packages/numpy/lib/utils.py\u001b[0m in \u001b[0;36m_median_nancheck\u001b[0;34m(data, result, axis, out)\u001b[0m\n\u001b[1;32m   1144\u001b[0m     \u001b[0;32mif\u001b[0m \u001b[0mnp\u001b[0m\u001b[0;34m.\u001b[0m\u001b[0mma\u001b[0m\u001b[0;34m.\u001b[0m\u001b[0misMaskedArray\u001b[0m\u001b[0;34m(\u001b[0m\u001b[0mn\u001b[0m\u001b[0;34m)\u001b[0m\u001b[0;34m:\u001b[0m\u001b[0;34m\u001b[0m\u001b[0m\n\u001b[1;32m   1145\u001b[0m         \u001b[0mn\u001b[0m \u001b[0;34m=\u001b[0m \u001b[0mn\u001b[0m\u001b[0;34m.\u001b[0m\u001b[0mfilled\u001b[0m\u001b[0;34m(\u001b[0m\u001b[0;32mFalse\u001b[0m\u001b[0;34m)\u001b[0m\u001b[0;34m\u001b[0m\u001b[0m\n\u001b[0;32m-> 1146\u001b[0;31m     \u001b[0;32mif\u001b[0m \u001b[0mresult\u001b[0m\u001b[0;34m.\u001b[0m\u001b[0mndim\u001b[0m \u001b[0;34m==\u001b[0m \u001b[0;36m0\u001b[0m\u001b[0;34m:\u001b[0m\u001b[0;34m\u001b[0m\u001b[0m\n\u001b[0m\u001b[1;32m   1147\u001b[0m         \u001b[0;32mif\u001b[0m \u001b[0mn\u001b[0m \u001b[0;34m==\u001b[0m \u001b[0;32mTrue\u001b[0m\u001b[0;34m:\u001b[0m\u001b[0;34m\u001b[0m\u001b[0m\n\u001b[1;32m   1148\u001b[0m             warnings.warn(\"Invalid value encountered in median\",\n",
      "\u001b[0;31mKeyboardInterrupt\u001b[0m: "
     ]
    }
   ],
   "source": [
    "from keras.layers import Input, Dense, Activation, ZeroPadding2D, BatchNormalization, Flatten, Conv2D\n",
    "def RobModel(input_shape):\n",
    "    \"\"\"\n",
    "    Implementation of the HappyModel.\n",
    "    \n",
    "    Arguments:\n",
    "    input_shape -- shape of the images of the dataset\n",
    "\n",
    "    Returns:\n",
    "    model -- a Model() instance in Keras\n",
    "    \"\"\"\n",
    "    chanDim = -1\n",
    "    \n",
    "    # Define the input placeholder as a tensor with shape input_shape. Think of this as your input image!\n",
    "    X_input = Input(input_shape)\n",
    "    model = Sequential()\n",
    "    # Zero-Padding: pads the border of X_input with zeroes\n",
    "    #X = ZeroPadding2D((3, 3))(X_input)\n",
    "\n",
    "    # CONV -> BN -> RELU Block applied to X\n",
    "    model.add(Conv2D(32, (3, 3), padding=\"same\",\n",
    "    input_shape=input_shape))\n",
    "    model.add(Activation(\"relu\"))\n",
    "    \n",
    "    #model.add(BatchNormalization(axis=chanDim))\n",
    "    model.add(MaxPooling2D(pool_size=(3, 3)))\n",
    "    #model.add(Dropout(drop))\n",
    "    \n",
    "    model.add(Conv2D(64, (3, 3), padding=\"same\"))\n",
    "    model.add(Activation(\"relu\"))\n",
    "    #model.add(BatchNormalization(axis=chanDim))\n",
    "    model.add(Conv2D(64, (3, 3), padding=\"same\"))\n",
    "    model.add(Activation(\"relu\"))\n",
    "    #model.add(BatchNormalization(axis=chanDim))\n",
    "    model.add(MaxPooling2D(pool_size=(2, 2)))\n",
    "    #model.add(Dropout(drop))\n",
    "    \n",
    "    # FLATTEN X (means convert it to a vector) + FULLYCONNECTED\n",
    "    model.add(Flatten())\n",
    "    model.add(Dense(512))\n",
    "    model.add(Activation(\"relu\"))\n",
    "    #model.add(BatchNormalization())\n",
    "    #model.add(Dropout(drop*1.8))\n",
    "\n",
    "    model.add(Dense(10))\n",
    "    model.add(Activation(\"softmax\"))\n",
    "    \n",
    "    \n",
    "    ### END CODE HERE ###\n",
    "    \n",
    "    return model\n",
    "\n",
    "cnn_model_cif = RobModel((32, 32, 3))\n",
    "cnn_model_cif.compile(optimizer = \"adam\", loss=\"categorical_crossentropy\", metrics = [\"accuracy\"])\n",
    "cnn_model_cif.fit(X_train, Y_train, batch_size=128, epochs=20, verbose=1, validation_data=(X_test, Y_test))"
   ]
  },
  {
   "cell_type": "code",
   "execution_count": 35,
   "metadata": {},
   "outputs": [],
   "source": [
    "cnn_model_cif = RobModel((32, 32, 3))"
   ]
  },
  {
   "cell_type": "code",
   "execution_count": 36,
   "metadata": {},
   "outputs": [],
   "source": [
    "cnn_model_cif.compile(optimizer = \"adam\", loss=\"categorical_crossentropy\", metrics = [\"accuracy\"])"
   ]
  },
  {
   "cell_type": "code",
   "execution_count": 37,
   "metadata": {
    "scrolled": true
   },
   "outputs": [
    {
     "name": "stdout",
     "output_type": "stream",
     "text": [
      "Train on 50000 samples, validate on 10000 samples\n",
      "Epoch 1/20\n",
      "50000/50000 [==============================] - 226s 5ms/step - loss: 1.6154 - acc: 0.4840 - val_loss: 1.1567 - val_acc: 0.6016\n",
      "Epoch 2/20\n",
      "50000/50000 [==============================] - 236s 5ms/step - loss: 1.0698 - acc: 0.6264 - val_loss: 0.9863 - val_acc: 0.6605\n",
      "Epoch 3/20\n",
      "50000/50000 [==============================] - 229s 5ms/step - loss: 0.9002 - acc: 0.6834 - val_loss: 0.8358 - val_acc: 0.7048\n",
      "Epoch 4/20\n",
      "50000/50000 [==============================] - 218s 4ms/step - loss: 0.8039 - acc: 0.7181 - val_loss: 1.4496 - val_acc: 0.5672\n",
      "Epoch 5/20\n",
      "50000/50000 [==============================] - 195s 4ms/step - loss: 0.7291 - acc: 0.7453 - val_loss: 0.7125 - val_acc: 0.7555\n",
      "Epoch 6/20\n",
      "50000/50000 [==============================] - 198s 4ms/step - loss: 0.6630 - acc: 0.7676 - val_loss: 0.8851 - val_acc: 0.7084\n",
      "Epoch 7/20\n",
      "50000/50000 [==============================] - 190s 4ms/step - loss: 0.6146 - acc: 0.7845 - val_loss: 0.7679 - val_acc: 0.7486\n",
      "Epoch 8/20\n",
      "50000/50000 [==============================] - 190s 4ms/step - loss: 0.5715 - acc: 0.7994 - val_loss: 0.9159 - val_acc: 0.7070\n",
      "Epoch 9/20\n",
      "50000/50000 [==============================] - 190s 4ms/step - loss: 0.5355 - acc: 0.8119 - val_loss: 1.1460 - val_acc: 0.6831\n",
      "Epoch 10/20\n",
      "50000/50000 [==============================] - 190s 4ms/step - loss: 0.4932 - acc: 0.8260 - val_loss: 0.9651 - val_acc: 0.7010\n",
      "Epoch 11/20\n",
      "50000/50000 [==============================] - 187s 4ms/step - loss: 0.4628 - acc: 0.8367 - val_loss: 0.9688 - val_acc: 0.7220\n",
      "Epoch 12/20\n",
      "50000/50000 [==============================] - 187s 4ms/step - loss: 0.4289 - acc: 0.8493 - val_loss: 0.7487 - val_acc: 0.7565\n",
      "Epoch 13/20\n",
      "50000/50000 [==============================] - 219s 4ms/step - loss: 0.4006 - acc: 0.8589 - val_loss: 0.6200 - val_acc: 0.8047\n",
      "Epoch 14/20\n",
      "50000/50000 [==============================] - 187s 4ms/step - loss: 0.3718 - acc: 0.8677 - val_loss: 0.8240 - val_acc: 0.7691\n",
      "Epoch 15/20\n",
      "50000/50000 [==============================] - 188s 4ms/step - loss: 0.3514 - acc: 0.8756 - val_loss: 0.6792 - val_acc: 0.7938\n",
      "Epoch 16/20\n",
      "50000/50000 [==============================] - 189s 4ms/step - loss: 0.3267 - acc: 0.8843 - val_loss: 0.7502 - val_acc: 0.7854\n",
      "Epoch 17/20\n",
      "50000/50000 [==============================] - 1412s 28ms/step - loss: 0.3098 - acc: 0.8911 - val_loss: 0.6322 - val_acc: 0.8060\n",
      "Epoch 18/20\n",
      "50000/50000 [==============================] - 187s 4ms/step - loss: 0.2861 - acc: 0.8991 - val_loss: 0.8609 - val_acc: 0.7484\n",
      "Epoch 19/20\n",
      "50000/50000 [==============================] - 189s 4ms/step - loss: 0.2778 - acc: 0.9032 - val_loss: 0.6903 - val_acc: 0.7950\n",
      "Epoch 20/20\n",
      "50000/50000 [==============================] - 190s 4ms/step - loss: 0.2645 - acc: 0.9058 - val_loss: 0.7112 - val_acc: 0.7919\n"
     ]
    },
    {
     "data": {
      "text/plain": [
       "<keras.callbacks.History at 0x139aee748>"
      ]
     },
     "execution_count": 37,
     "metadata": {},
     "output_type": "execute_result"
    }
   ],
   "source": [
    "cnn_model_cif.fit(X_train, Y_train, batch_size=128, epochs=20, verbose=1, validation_data=(X_test, Y_test))"
   ]
  },
  {
   "cell_type": "code",
   "execution_count": 39,
   "metadata": {},
   "outputs": [
    {
     "name": "stdout",
     "output_type": "stream",
     "text": [
      "Test loss: 0.7111633457660675\n",
      "Test accuracy: 0.7919\n"
     ]
    }
   ],
   "source": [
    "loss, acc = cnn_model_cif.evaluate(X_test, Y_test, verbose=0)\n",
    "print('Test loss:', loss)\n",
    "print('Test accuracy:', acc)"
   ]
  },
  {
   "cell_type": "code",
   "execution_count": null,
   "metadata": {},
   "outputs": [],
   "source": []
  },
  {
   "cell_type": "code",
   "execution_count": null,
   "metadata": {},
   "outputs": [],
   "source": []
  },
  {
   "cell_type": "code",
   "execution_count": 42,
   "metadata": {
    "scrolled": true
   },
   "outputs": [
    {
     "name": "stdout",
     "output_type": "stream",
     "text": [
      "Train on 50000 samples, validate on 10000 samples\n",
      "Epoch 1/20\n",
      "50000/50000 [==============================] - 37s 735us/step - loss: 1.4541 - acc: 0.4769 - val_loss: 1.2533 - val_acc: 0.5491\n",
      "Epoch 2/20\n",
      "50000/50000 [==============================] - 35s 708us/step - loss: 1.1115 - acc: 0.6108 - val_loss: 1.0509 - val_acc: 0.6297\n",
      "Epoch 3/20\n",
      "50000/50000 [==============================] - 36s 717us/step - loss: 0.9658 - acc: 0.6630 - val_loss: 0.9833 - val_acc: 0.6572\n",
      "Epoch 4/20\n",
      "50000/50000 [==============================] - 35s 705us/step - loss: 0.8618 - acc: 0.7000 - val_loss: 0.9289 - val_acc: 0.6811\n",
      "Epoch 5/20\n",
      "50000/50000 [==============================] - 36s 727us/step - loss: 0.7861 - acc: 0.7259 - val_loss: 0.8452 - val_acc: 0.7074\n",
      "Epoch 6/20\n",
      "50000/50000 [==============================] - 34s 689us/step - loss: 0.7125 - acc: 0.7515 - val_loss: 0.8218 - val_acc: 0.7177\n",
      "Epoch 7/20\n",
      "50000/50000 [==============================] - 34s 681us/step - loss: 0.6424 - acc: 0.7775 - val_loss: 0.8329 - val_acc: 0.7136\n",
      "Epoch 8/20\n",
      "50000/50000 [==============================] - 40s 806us/step - loss: 0.5816 - acc: 0.7976 - val_loss: 0.8055 - val_acc: 0.7284\n",
      "Epoch 9/20\n",
      "50000/50000 [==============================] - 38s 758us/step - loss: 0.5088 - acc: 0.8244 - val_loss: 0.8114 - val_acc: 0.7286\n",
      "Epoch 10/20\n",
      "50000/50000 [==============================] - 35s 704us/step - loss: 0.4526 - acc: 0.8443 - val_loss: 0.8100 - val_acc: 0.7321\n",
      "Epoch 11/20\n",
      "50000/50000 [==============================] - 34s 685us/step - loss: 0.3998 - acc: 0.8620 - val_loss: 0.8233 - val_acc: 0.7347\n",
      "Epoch 12/20\n",
      "50000/50000 [==============================] - 44s 884us/step - loss: 0.3359 - acc: 0.8863 - val_loss: 0.8754 - val_acc: 0.7269\n",
      "Epoch 13/20\n",
      "50000/50000 [==============================] - 42s 848us/step - loss: 0.2867 - acc: 0.9038 - val_loss: 0.8793 - val_acc: 0.7367\n",
      "Epoch 14/20\n",
      "50000/50000 [==============================] - 42s 838us/step - loss: 0.2350 - acc: 0.9214 - val_loss: 0.9264 - val_acc: 0.7398\n",
      "Epoch 15/20\n",
      "50000/50000 [==============================] - 42s 833us/step - loss: 0.1882 - acc: 0.9385 - val_loss: 1.0183 - val_acc: 0.7328\n",
      "Epoch 16/20\n",
      "50000/50000 [==============================] - 40s 797us/step - loss: 0.1528 - acc: 0.9511 - val_loss: 1.0246 - val_acc: 0.7429\n",
      "Epoch 17/20\n",
      "50000/50000 [==============================] - 42s 835us/step - loss: 0.1215 - acc: 0.9619 - val_loss: 1.1330 - val_acc: 0.7283\n",
      "Epoch 18/20\n",
      "50000/50000 [==============================] - 43s 858us/step - loss: 0.1045 - acc: 0.9672 - val_loss: 1.1884 - val_acc: 0.7343\n",
      "Epoch 19/20\n",
      "50000/50000 [==============================] - 41s 817us/step - loss: 0.0800 - acc: 0.9759 - val_loss: 1.2581 - val_acc: 0.7379\n",
      "Epoch 20/20\n",
      "50000/50000 [==============================] - 40s 806us/step - loss: 0.0688 - acc: 0.9803 - val_loss: 1.3455 - val_acc: 0.7375\n",
      "Test loss: 1.3454796544075012\n",
      "Test accuracy: 0.7375\n"
     ]
    },
    {
     "data": {
      "image/png": "[encoded data removed]",
      "text/plain": [
       "<Figure size 1080x360 with 2 Axes>"
      ]
     },
     "metadata": {
      "needs_background": "light"
     },
     "output_type": "display_data"
    }
   ],
   "source": [
    "from keras.layers import Input, Dense, Activation, ZeroPadding2D, BatchNormalization, Flatten, Conv2D\n",
    "def RobModel(input_shape):\n",
    "    \"\"\"\n",
    "    Implementation of the HappyModel.\n",
    "    \n",
    "    Arguments:\n",
    "    input_shape -- shape of the images of the dataset\n",
    "\n",
    "    Returns:\n",
    "    model -- a Model() instance in Keras\n",
    "    \"\"\"\n",
    "    chanDim = -1\n",
    "    \n",
    "    # Define the input placeholder as a tensor with shape input_shape. Think of this as your input image!\n",
    "    X_input = Input(input_shape)\n",
    "    model = Sequential()\n",
    "    # Zero-Padding: pads the border of X_input with zeroes\n",
    "    #X = ZeroPadding2D((3, 3))(X_input)\n",
    "\n",
    "    # CONV -> BN -> RELU Block applied to X\n",
    "    model.add(Conv2D(32, (3, 3), padding=\"same\",\n",
    "    input_shape=input_shape))\n",
    "    model.add(Activation(\"relu\"))\n",
    "    \n",
    "    #model.add(BatchNormalization(axis=chanDim))\n",
    "    model.add(MaxPooling2D(pool_size=(3, 3)))\n",
    "    #model.add(Dropout(drop))\n",
    "    \n",
    "    model.add(Conv2D(64, (3, 3), padding=\"same\"))\n",
    "    model.add(Activation(\"relu\"))\n",
    "    #model.add(BatchNormalization(axis=chanDim))\n",
    "    #model.add(Conv2D(64, (3, 3), padding=\"same\"))\n",
    "    #model.add(Activation(\"relu\"))\n",
    "    #model.add(BatchNormalization(axis=chanDim))\n",
    "    model.add(MaxPooling2D(pool_size=(2, 2)))\n",
    "    #model.add(Dropout(drop))\n",
    "    \n",
    "    # FLATTEN X (means convert it to a vector) + FULLYCONNECTED\n",
    "    model.add(Flatten())\n",
    "    model.add(Dense(512))\n",
    "    model.add(Activation(\"relu\"))\n",
    "    #model.add(BatchNormalization())\n",
    "    #model.add(Dropout(drop*1.8))\n",
    "\n",
    "    model.add(Dense(10))\n",
    "    model.add(Activation(\"softmax\"))\n",
    "    \n",
    "    \n",
    "    ### END CODE HERE ###\n",
    "    \n",
    "    return model\n",
    "\n",
    "cnn_model_cif = RobModel((32, 32, 3))\n",
    "cnn_model_cif.compile(optimizer = \"adam\", loss=\"categorical_crossentropy\", metrics = [\"accuracy\"])\n",
    "hist = cnn_model_cif.fit(X_train, Y_train, batch_size=128, epochs=20, verbose=1, validation_data=(X_test, Y_test))\n",
    "\n",
    "loss, acc = cnn_model_cif.evaluate(X_test, Y_test, verbose=0)\n",
    "print('Test loss:', loss)\n",
    "print('Test accuracy:', acc)\n",
    "\n",
    "plot_model_history(hist)\n",
    "\n"
   ]
  },
  {
   "cell_type": "code",
   "execution_count": 43,
   "metadata": {
    "scrolled": true
   },
   "outputs": [
    {
     "name": "stdout",
     "output_type": "stream",
     "text": [
      "Train on 50000 samples, validate on 10000 samples\n",
      "Epoch 1/20\n",
      "50000/50000 [==============================] - 21s 423us/step - loss: 1.6118 - acc: 0.4235 - val_loss: 1.3710 - val_acc: 0.5098\n",
      "Epoch 2/20\n",
      "50000/50000 [==============================] - 18s 363us/step - loss: 1.2941 - acc: 0.5416 - val_loss: 1.2126 - val_acc: 0.5739\n",
      "Epoch 3/20\n",
      "50000/50000 [==============================] - 18s 362us/step - loss: 1.1662 - acc: 0.5900 - val_loss: 1.1136 - val_acc: 0.6088\n",
      "Epoch 4/20\n",
      "50000/50000 [==============================] - 18s 362us/step - loss: 1.0760 - acc: 0.6217 - val_loss: 1.0853 - val_acc: 0.6210\n",
      "Epoch 5/20\n",
      "50000/50000 [==============================] - 19s 381us/step - loss: 1.0074 - acc: 0.6459 - val_loss: 1.0175 - val_acc: 0.6466\n",
      "Epoch 6/20\n",
      "50000/50000 [==============================] - 19s 373us/step - loss: 0.9551 - acc: 0.6668 - val_loss: 0.9981 - val_acc: 0.6513\n",
      "Epoch 7/20\n",
      "50000/50000 [==============================] - 18s 366us/step - loss: 0.9052 - acc: 0.6843 - val_loss: 0.9528 - val_acc: 0.6698\n",
      "Epoch 8/20\n",
      "50000/50000 [==============================] - 18s 366us/step - loss: 0.8576 - acc: 0.7024 - val_loss: 0.9340 - val_acc: 0.6774\n",
      "Epoch 9/20\n",
      "50000/50000 [==============================] - 18s 364us/step - loss: 0.8156 - acc: 0.7165 - val_loss: 0.9199 - val_acc: 0.6815\n",
      "Epoch 10/20\n",
      "50000/50000 [==============================] - 19s 385us/step - loss: 0.7796 - acc: 0.7297 - val_loss: 0.8930 - val_acc: 0.6922\n",
      "Epoch 11/20\n",
      "50000/50000 [==============================] - 18s 367us/step - loss: 0.7398 - acc: 0.7432 - val_loss: 0.9195 - val_acc: 0.6848\n",
      "Epoch 12/20\n",
      "50000/50000 [==============================] - 18s 366us/step - loss: 0.7035 - acc: 0.7551 - val_loss: 0.8764 - val_acc: 0.6997\n",
      "Epoch 13/20\n",
      "50000/50000 [==============================] - 18s 366us/step - loss: 0.6700 - acc: 0.7666 - val_loss: 0.8916 - val_acc: 0.6962\n",
      "Epoch 14/20\n",
      "50000/50000 [==============================] - 20s 394us/step - loss: 0.6356 - acc: 0.7778 - val_loss: 0.8981 - val_acc: 0.6999\n",
      "Epoch 15/20\n",
      "50000/50000 [==============================] - 18s 365us/step - loss: 0.6073 - acc: 0.7885 - val_loss: 0.8749 - val_acc: 0.7021\n",
      "Epoch 16/20\n",
      "50000/50000 [==============================] - 18s 367us/step - loss: 0.5776 - acc: 0.7986 - val_loss: 0.9093 - val_acc: 0.6981\n",
      "Epoch 17/20\n",
      "50000/50000 [==============================] - 18s 365us/step - loss: 0.5478 - acc: 0.8104 - val_loss: 0.9064 - val_acc: 0.6984\n",
      "Epoch 18/20\n",
      "50000/50000 [==============================] - 19s 385us/step - loss: 0.5141 - acc: 0.8208 - val_loss: 0.8970 - val_acc: 0.7082\n",
      "Epoch 19/20\n",
      "50000/50000 [==============================] - 19s 388us/step - loss: 0.4883 - acc: 0.8307 - val_loss: 0.8943 - val_acc: 0.7107\n",
      "Epoch 20/20\n",
      "50000/50000 [==============================] - 19s 377us/step - loss: 0.4574 - acc: 0.8420 - val_loss: 0.9028 - val_acc: 0.7097\n",
      "Test loss: 0.9027976490974426\n",
      "Test accuracy: 0.7097\n"
     ]
    },
    {
     "data": {
      "image/png": "[encoded data removed]",
      "text/plain": [
       "<Figure size 1080x360 with 2 Axes>"
      ]
     },
     "metadata": {
      "needs_background": "light"
     },
     "output_type": "display_data"
    }
   ],
   "source": [
    "from keras.layers import Input, Dense, Activation, ZeroPadding2D, BatchNormalization, Flatten, Conv2D\n",
    "def RobModel(input_shape):\n",
    "    \"\"\"\n",
    "    Implementation of the HappyModel.\n",
    "    \n",
    "    Arguments:\n",
    "    input_shape -- shape of the images of the dataset\n",
    "\n",
    "    Returns:\n",
    "    model -- a Model() instance in Keras\n",
    "    \"\"\"\n",
    "    chanDim = -1\n",
    "    \n",
    "    # Define the input placeholder as a tensor with shape input_shape. Think of this as your input image!\n",
    "    X_input = Input(input_shape)\n",
    "    model = Sequential()\n",
    "    # Zero-Padding: pads the border of X_input with zeroes\n",
    "    #X = ZeroPadding2D((3, 3))(X_input)\n",
    "\n",
    "    # CONV -> BN -> RELU Block applied to X\n",
    "    model.add(Conv2D(16, (3, 3), padding=\"same\",\n",
    "    input_shape=input_shape))\n",
    "    model.add(Activation(\"relu\"))\n",
    "    \n",
    "    #model.add(BatchNormalization(axis=chanDim))\n",
    "    model.add(MaxPooling2D(pool_size=(3, 3)))\n",
    "    #model.add(Dropout(drop))\n",
    "    \n",
    "    model.add(Conv2D(32, (3, 3), padding=\"same\"))\n",
    "    model.add(Activation(\"relu\"))\n",
    "    #model.add(BatchNormalization(axis=chanDim))\n",
    "    #model.add(Conv2D(64, (3, 3), padding=\"same\"))\n",
    "    #model.add(Activation(\"relu\"))\n",
    "    #model.add(BatchNormalization(axis=chanDim))\n",
    "    model.add(MaxPooling2D(pool_size=(2, 2)))\n",
    "    #model.add(Dropout(drop))\n",
    "    \n",
    "    # FLATTEN X (means convert it to a vector) + FULLYCONNECTED\n",
    "    model.add(Flatten())\n",
    "    model.add(Dense(256))\n",
    "    model.add(Activation(\"relu\"))\n",
    "    #model.add(BatchNormalization())\n",
    "    #model.add(Dropout(drop*1.8))\n",
    "\n",
    "    model.add(Dense(10))\n",
    "    model.add(Activation(\"softmax\"))\n",
    "    \n",
    "    \n",
    "    ### END CODE HERE ###\n",
    "    \n",
    "    return model\n",
    "\n",
    "cnn_model_cif = RobModel((32, 32, 3))\n",
    "cnn_model_cif.compile(optimizer = \"adam\", loss=\"categorical_crossentropy\", metrics = [\"accuracy\"])\n",
    "hist = cnn_model_cif.fit(X_train, Y_train, batch_size=128, epochs=20, verbose=1, validation_data=(X_test, Y_test))\n",
    "\n",
    "loss, acc = cnn_model_cif.evaluate(X_test, Y_test, verbose=0)\n",
    "print('Test loss:', loss)\n",
    "print('Test accuracy:', acc)\n",
    "\n",
    "plot_model_history(hist)\n"
   ]
  },
  {
   "cell_type": "code",
   "execution_count": null,
   "metadata": {},
   "outputs": [],
   "source": []
  }
 ],
 "metadata": {
  "accelerator": "GPU",
  "colab": {
   "collapsed_sections": [],
   "name": "cifar10_example.ipynb",
   "provenance": [],
   "version": "0.3.2"
  },
  "kernelspec": {
   "display_name": "Python 3",
   "language": "python",
   "name": "python3"
  },
  "language_info": {
   "codemirror_mode": {
    "name": "ipython",
    "version": 3
   },
   "file_extension": ".py",
   "mimetype": "text/x-python",
   "name": "python",
   "nbconvert_exporter": "python",
   "pygments_lexer": "ipython3",
   "version": "3.6.5"
  }
 },
 "nbformat": 4,
 "nbformat_minor": 1
}
