{
 "cells": [
  {
   "cell_type": "markdown",
   "metadata": {},
   "source": [
    "# Procesamiento de Imágenes Digitales"
   ]
  },
  {
   "cell_type": "markdown",
   "metadata": {},
   "source": [
    "Visión Computacional 2018-19 <br>\n",
    "Practica 1. 3\n",
    "de octubre de 2018"
   ]
  },
  {
   "cell_type": "markdown",
   "metadata": {},
   "source": [
    "Este enunciado está en el archivo \"PracticaPI2018.ipynb\" o su versión \"pdf\" que puedes encontrar en el Aula Virtual."
   ]
  },
  {
   "cell_type": "markdown",
   "metadata": {},
   "source": [
    "## Objetivos\n"
   ]
  },
  {
   "cell_type": "markdown",
   "metadata": {},
   "source": [
    "Los objetivos de esta práctica son:\n",
    "* Programar algunas de las rutinas de transformaciones puntuales de procesamiento de imágenes y analizar el resultado de su aplicación.\n",
    "* Repasar algunos conceptos de filtrado de imágenes y programar algunas rutinas para suavizado y extracción de bordes.\n",
    "* Implementar un algoritmo de segmentación de imágenes y otro de extracción de líneas mediante la transformada de Hough."
   ]
  },
  {
   "cell_type": "markdown",
   "metadata": {},
   "source": [
    "## Requerimientos"
   ]
  },
  {
   "cell_type": "markdown",
   "metadata": {},
   "source": [
    "Para esta práctica es necesario disponer del siguiente software:\n",
    "* Python 2.7 ó 3.X \n",
    "* Jupyter http://jupyter.org/.\n",
    "* Los paquetes \"pip\" y  \"PyMaxFlow\"\n",
    "* Las librerías científicas de Python: NumPy, SciPy, y Matplotlib.\n",
    "* El paquete PyGame.\n",
    "* La librería OpenCV.\n",
    "\n",
    "Las versiones preferidas del entorno de trabajo puedes consultarlas en el Aula Virtual en el archivo \"ConfiguracionPC2018.txt\". \n",
    "\n",
    "El material necesario para la práctica se puede descargar del Aula Virtual."
   ]
  },
  {
   "cell_type": "markdown",
   "metadata": {},
   "source": [
    "## Condiciones"
   ]
  },
  {
   "cell_type": "markdown",
   "metadata": {},
   "source": [
    "* La fecha límite de entrega será el martes 23 de octubre a las 23:55.\n",
    "* La entrega consiste en dos archivos con el código, resultados y respuestas a los ejercicios:\n",
    "  1. Un \"notebook\" de Jupyter con los resultados. Las respuestas a los ejercicios debes introducirlas en tantas celdas de código o texto como creas necesarias, insertadas inmediatamente después de  un enuciado y antes del siguiente.\n",
    "  2. Un documento \"pdf\" generado a partir del fuente de Jupyter, por ejemplo usando el comando ``jupyter nbconvert --execute --to pdf notebook.ipynb``, o simplemente imprimiendo el \"notebook\" desde el navegador en la opción del menú \"File->Print preview\". Asegúrate de que el documento \"pdf\" contiene todos los resultados correctamente ejecutados.\n",
    "* Esta práctica puede realizarse en parejas."
   ]
  },
  {
   "cell_type": "markdown",
   "metadata": {},
   "source": [
    "## Instala el entorno de trabajo"
   ]
  },
  {
   "cell_type": "markdown",
   "metadata": {},
   "source": [
    "En la distribución Linux Ubuntu 18.04, éstos son los comandos necesarios para instalar el entorno:\n",
    "1. Instala los paquetes Python y Jupyter\n",
    "\n",
    "    ``apt install python\n",
    "    apt install python-scipy\n",
    "    apt install python-numpy\n",
    "    apt install python-matplotlib\n",
    "    apt install python-opencv\n",
    "    apt install jupyter\n",
    "    apt install jupyter-nbconvert``\n",
    "\n",
    "    Para para trabajar con la versión 3.X de Python, basta sustituir la palabra \"python\" por \"python3\" en los comandos anteriores.\n",
    "\n",
    "2. Instala el paquete PyMaxflow\n",
    "\n",
    "   ``pip install PyMaxflow`` o ``pip3 install PyMaxflow``\n",
    "   \n",
    "   Si no tienes el paquete \"pip\" debes instalarlo: ``apt install python-pip`` o ``apt install python3-pip``\n",
    "3. Instala el paquete \"pygame\"\n",
    "\n",
    "    ``apt install python-pygame`` \n",
    "    \n",
    "    Si deseas trabajar en Python 3.X, la versión 18.04 de Ubuntu no tiene el paquete \"python3-pygame\" pero puedes instalarlo con la herramienta pip: ``pip3 install pygame``"
   ]
  },
  {
   "cell_type": "markdown",
   "metadata": {},
   "source": [
    "## Transformaciones puntuales"
   ]
  },
  {
   "cell_type": "markdown",
   "metadata": {},
   "source": [
    "En este apartado te recomiendo que uses al menos la imagen indicada, que puedes encontrar en el directorio de imágenes\n",
    "del aula virtual. También puedes probar con otras que te parezcan interesantes."
   ]
  },
  {
   "cell_type": "markdown",
   "metadata": {},
   "source": [
    "**Ejercicio 1.** Carga la imagen ``escilum.tif``. Calcula\n",
    "y muestra su histograma, por ejemplo,  con la función ``hist()`` de\n",
    "``matplotlib.pyplot``. A la vista del histograma, discute\n",
    "qué problema tiene la imagen para analizar visualmente la\n",
    "región inferior izquierda."
   ]
  },
  {
   "cell_type": "code",
   "execution_count": null,
   "metadata": {},
   "outputs": [],
   "source": []
  },
  {
   "cell_type": "markdown",
   "metadata": {},
   "source": [
    "**Ejercicio 2.** Escribe una función ``eq_hist(histograma)``\n",
    "que calcule la función de transformación puntual que ecualiza el histograma.\n",
    "Aplica la función de transformación a la imagen anterior.\n",
    "Calcula y muestra nuevamente el histograma y la imagen\n",
    "resultantes, así como la función de transformación.\n",
    "\n",
    "Discute los resultados obtenidos. ¿Cuál sería el resultado si volviésemos a ecualizar la imagen resultante?\n",
    "\n",
    "En este ejercicio tienes que implementar la función que ecualiza el histograma. No puedes usar funciones que lo hagan por ti."
   ]
  },
  {
   "cell_type": "code",
   "execution_count": null,
   "metadata": {},
   "outputs": [],
   "source": []
  },
  {
   "cell_type": "markdown",
   "metadata": {},
   "source": [
    "##  Filtrado"
   ]
  },
  {
   "cell_type": "markdown",
   "metadata": {},
   "source": [
    "Para realizar las convoluciones utiliza la función ``convolve`` o ``convolve1d`` de ``scipy.ndimage.filters``,\n",
    "segun corresponda.\n",
    "\n",
    "\n",
    "Carga y muestra las imágenes ``escgaus.bmp`` y ``escimp5.bmp`` que están contaminadas respectivamente\n",
    "con ruido de tipo gaussiano e impulsional. En los siguientes ejercicios también puedes utilizar otras imágenes que te parezcan interesantes."
   ]
  },
  {
   "cell_type": "code",
   "execution_count": null,
   "metadata": {},
   "outputs": [],
   "source": []
  },
  {
   "cell_type": "markdown",
   "metadata": {},
   "source": [
    "**Ejercicio 3.** Escribe una función ``masc_gaus(sigma, n)``\n",
    "que construya una máscara de una dimensión de un filtro\n",
    "gaussiano de tamaño *n* y varianza σ . Filtra las imágenes\n",
    "anteriores con filtros bidimensionales de diferentes tamaños\n",
    "de *n* , y/o σ.\n",
    "\n",
    "En este ejercicio tienes que implementar la función que construye la máscara. No puedes usar funciones que construyan la máscara o realicen el filtrado automáticamente.\n",
    "\n",
    "Muestra y discute los resultados. Pinta alguna de las máscaras construidas.\n",
    "\n"
   ]
  },
  {
   "cell_type": "code",
   "execution_count": null,
   "metadata": {},
   "outputs": [],
   "source": []
  },
  {
   "cell_type": "markdown",
   "metadata": {},
   "source": [
    "**Ejercicio 4.** Escribe una función ``masc_deriv_gaus(sigma, n)`` que construya una máscara de una dimensión de un\n",
    "filtro derivada del gaussiano de tamaño *n* y varianza σ. Filtra la imagen ``corridor.jpg`` con filtros bidimensionales de derivada\n",
    "del gaussiano para extraer los bordes de la imagen. Prueba con diferentes valores de *n* y/o σ.\n",
    "\n",
    "Muestra y discute los resultados. Pinta alguna de las máscaras construidas."
   ]
  },
  {
   "cell_type": "code",
   "execution_count": null,
   "metadata": {},
   "outputs": [],
   "source": []
  },
  {
   "cell_type": "markdown",
   "metadata": {},
   "source": [
    "**Ejercicio 5.** Compara los tiempos de ejecución de las convoluciones anteriores cuando se realizan con ``convolve1d`` en vez de con ``convolve``.\n",
    "Analiza los tiempos para diferentes valores de *n* y justifica los resultados."
   ]
  },
  {
   "cell_type": "code",
   "execution_count": null,
   "metadata": {},
   "outputs": [],
   "source": [
    "# Posible ejemplo de código\n",
    "import time\n",
    "\n",
    "start_time = time.clock()\n",
    "# ejecuta convoluciones ....\n",
    "\n",
    "print time.clock() - start_time, \"seconds\""
   ]
  },
  {
   "cell_type": "markdown",
   "metadata": {},
   "source": [
    "**Ejercicio 6.** Aplica el filtro de la mediana a las imágenes\n",
    "``escgaus.bmp`` y ``escimp5.bmp`` con diferentes valores de tamaño de la ventana. Muestra y discute los resultados. Compáralos con los obtenidos en el Ejercicio 3.\n",
    "\n",
    "Para realizar este ejercicio puedes utilizar la función ``cv2.medianBlur()`` de OpenCV, ``scipy.ndimage.median_filter()`` de SciPy o hacer tu propia función. Para ello puedes escribir una función ``mediana(img, n)`` y aplicarla a la imagen con la función ``scipy.ndimage.filters()``.\n",
    "\n"
   ]
  },
  {
   "cell_type": "code",
   "execution_count": null,
   "metadata": {},
   "outputs": [],
   "source": []
  },
  {
   "cell_type": "markdown",
   "metadata": {},
   "source": [
    "**Ejercicio 7.** Utiliza la funcion ``cv2.bilateralFilter()`` de OpenCV para realizar el filtrado bilateral de una\n",
    "imagen. Selecciona los parámetros adecuados y aplícalo a las imágenes ``escgaus.bmp`` y ``escimp5.bmp`` y otras que elijas tú.\n",
    "\n",
    "Si llamamos $\\sigma_r$ a la varianza de de la gaussiana que controla la ponderación debida a la diferencia entre los valores de los píxeles y $\\sigma_s$ a la varianza de la gaussiana que controla la ponderación debida a la posición de los píxeles. Responde a la siguientes preguntas:\n",
    "* ¿Cómo se comporta el filtro bilateral cuando la varianza $\\sigma_r$ es muy alta? ¿En este caso qué ocurre si $\\sigma_s$ es alta o baja?\n",
    "* ¿Cómo se comporta si $\\sigma_r$ es muy baja? ¿En este caso cómo se comporta el filtro dependiendo si $\\sigma_s$ es alta o baja?\n",
    "\n",
    "Muestra y discute los resultados para distintos valores de los parámetros y varias aplicaciones sucesivas del filtro. Compáralos con los obtenidos en los Ejercicios 3 y 6."
   ]
  },
  {
   "cell_type": "code",
   "execution_count": null,
   "metadata": {},
   "outputs": [],
   "source": []
  },
  {
   "cell_type": "markdown",
   "metadata": {},
   "source": [
    "## Transformada Hough"
   ]
  },
  {
   "cell_type": "markdown",
   "metadata": {},
   "source": [
    "**Ejercicio 8.** Emplea la transformada Hough para encontrar segmentos rectilíneos en la imagen ``corridor.jpg``. Para extraer los bordes de la imagen utiliza las funciones escritas en los ejercicios 3 y 4. Utiliza la función ``cv2.HoughLinesP()`` de OpenCV.\n",
    "\n",
    "Discute el funcionamiento para distintos valores de los parámetros de la función, así como de\n",
    "los filtros utilizados para extraer los bordes de la imagen. Pinta los resultados sobre la imagen (mira como ejemplo, https://docs.opencv.org/3.0-beta/doc/py_tutorials/py_imgproc/py_houghlines/py_houghlines.html)."
   ]
  },
  {
   "cell_type": "markdown",
   "metadata": {},
   "source": [
    "## Segmentación"
   ]
  },
  {
   "cell_type": "markdown",
   "metadata": {},
   "source": [
    "**Ejercicio 9.** Escribe una función que segmente el objeto central de una imagen a partir de una segmentación manual\n",
    "inicial realizada por el usuario. Puedes utilizar el código proporcionado en el archivo segm.py. En la optimización\n",
    "1. toma como afinidad entre una pareja de píxeles la\n",
    "diferencia en sus valores de color y;\n",
    "2. sólo establece los términos unitarios de los píxeles\n",
    "marcados por el usuario.\n",
    "\n",
    "Aplícalo, al menos, a las imágenes ``persona.png`` y ``horse.jpg``. Muestra y discute los resultados."
   ]
  },
  {
   "cell_type": "code",
   "execution_count": null,
   "metadata": {},
   "outputs": [],
   "source": []
  },
  {
   "cell_type": "markdown",
   "metadata": {},
   "source": [
    "**Ejercicio 10.** Mejora el algoritmo anterior. Puedes utilizar algunas de las que te sugiero a continuación u otras que creas más convenientes:\n",
    "* Refina la segmentación iterativamente.\n",
    "* Mejora la función de afinidad entre píxeles.\n",
    "* Mejora los términos unitarios\n",
    "\n",
    "mejora los resultados de algunas de las imágenes anteriores. Muestra y discute los resultados."
   ]
  },
  {
   "cell_type": "code",
   "execution_count": null,
   "metadata": {},
   "outputs": [],
   "source": []
  }
 ],
 "metadata": {
  "kernelspec": {
   "display_name": "Python 3",
   "language": "python",
   "name": "python3"
  },
  "language_info": {
   "codemirror_mode": {
    "name": "ipython",
    "version": 3
   },
   "file_extension": ".py",
   "mimetype": "text/x-python",
   "name": "python",
   "nbconvert_exporter": "python",
   "pygments_lexer": "ipython3",
   "version": "3.6.5"
  }
 },
 "nbformat": 4,
 "nbformat_minor": 2
}
